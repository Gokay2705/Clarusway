{
 "cells": [
  {
   "cell_type": "markdown",
   "metadata": {},
   "source": [
    "# Newton Method for finding square of rootes"
   ]
  },
  {
   "cell_type": "code",
   "execution_count": 5,
   "metadata": {},
   "outputs": [
    {
     "name": "stdout",
     "output_type": "stream",
     "text": [
      "Insert a number to calculate it's square rootes : 144\n",
      "Iteration number : 1\n",
      "72.5\n"
     ]
    }
   ],
   "source": [
    "x = int(input(\"Insert a number to calculate it's square rootes : \"))\n",
    "\n",
    "iteration = int(input(\"Iteration number : \"))\n",
    "               \n",
    "r = x\n",
    "\n",
    "for i in range(iteration):\n",
    "    r = (r + x/r) / 2\n",
    "print(r)"
   ]
  },
  {
   "cell_type": "code",
   "execution_count": 6,
   "metadata": {},
   "outputs": [
    {
     "name": "stdout",
     "output_type": "stream",
     "text": [
      "Enter a number to calculate its square root: 144\n",
      "What is precision? (For Example = 0.001): 1\n",
      "12.000545730742438\n"
     ]
    }
   ],
   "source": [
    "x = int(input(\"Enter a number to calculate its square root: \"))\n",
    "precision = float(input(\"What is precision? (For Example = 0.001): \"))\n",
    "r = x\n",
    "while abs(x - r * r) > precision:\n",
    "    r = (r + x/r) / 2\n",
    "print(r)"
   ]
  },
  {
   "cell_type": "code",
   "execution_count": 13,
   "metadata": {},
   "outputs": [
    {
     "name": "stdout",
     "output_type": "stream",
     "text": [
      "Insert a word please :turkey\n",
      "Trky\n"
     ]
    }
   ],
   "source": [
    "wovels = ['a', 'e', 'i', 'u', 'o', 'ö', 'ü']\n",
    "\n",
    "word = str(input(\"Insert a word please :\")).lower()\n",
    "\n",
    "for i in word:\n",
    "    if i in wovels:\n",
    "        word = word.replace(i,'')\n",
    "print(word.title())"
   ]
  },
  {
   "cell_type": "code",
   "execution_count": null,
   "metadata": {},
   "outputs": [],
   "source": []
  }
 ],
 "metadata": {
  "kernelspec": {
   "display_name": "Python 3.7.6 64-bit ('base': conda)",
   "language": "python",
   "name": "python37664bitbasecondad7ce78b4ea764cf9b42928a17b344cd7"
  },
  "language_info": {
   "codemirror_mode": {
    "name": "ipython",
    "version": 3
   },
   "file_extension": ".py",
   "mimetype": "text/x-python",
   "name": "python",
   "nbconvert_exporter": "python",
   "pygments_lexer": "ipython3",
   "version": "3.7.6"
  }
 },
 "nbformat": 4,
 "nbformat_minor": 4
}
