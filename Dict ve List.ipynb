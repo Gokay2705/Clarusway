{
 "cells": [
  {
   "cell_type": "code",
   "execution_count": 2,
   "metadata": {},
   "outputs": [
    {
     "name": "stdout",
     "output_type": "stream",
     "text": [
      "3\n"
     ]
    }
   ],
   "source": [
    "print(len([[1,2,3]][0]))"
   ]
  },
  {
   "cell_type": "code",
   "execution_count": 6,
   "metadata": {},
   "outputs": [
    {
     "name": "stdout",
     "output_type": "stream",
     "text": [
      "<class 'str'>\n",
      "Solar\n",
      "<class 'tuple'>\n",
      "('Solar',)\n"
     ]
    }
   ],
   "source": [
    "text = \"Solar\"\n",
    "print(type(text))\n",
    "print(text)\n",
    "text = (\"Solar\",) # tek elemanli tupple olusturur\n",
    "print(type(text))\n",
    "print(text)"
   ]
  },
  {
   "cell_type": "code",
   "execution_count": 11,
   "metadata": {},
   "outputs": [
    {
     "name": "stdout",
     "output_type": "stream",
     "text": [
      "(1, 2, 3, 4, 5, 6, 7, 8, 9, 10)\n",
      "<class 'tuple'>\n",
      "range(1, 11)\n",
      "<class 'range'>\n"
     ]
    }
   ],
   "source": [
    "number = tuple(range(1,11))\n",
    "number_1 = (range(1,11))\n",
    "print(number, type(number), sep='\\n')\n",
    "print(number_1, type(number_1), sep='\\n')"
   ]
  },
  {
   "cell_type": "code",
   "execution_count": 40,
   "metadata": {},
   "outputs": [
    {
     "name": "stdout",
     "output_type": "stream",
     "text": [
      "Bir kelime giriniz :tester\n",
      "{'s', 'r', 't', 'e'}\n",
      "False\n"
     ]
    }
   ],
   "source": [
    "left_hand_letters = set('qwertasdfgzxcvb')\n",
    "right_hand_letters = set('yuıopğühjklşinmöç')\n",
    "word = set(input(\"Bir kelime giriniz :\"))\n",
    "print(word)\n",
    "# print((word.intersection(left_hand_letters)))\n",
    "# print((word.intersection(right_hand_letters)))\n",
    "\n",
    "print(bool(word.intersection(left_hand_letters)) and bool(word.intersection(right_hand_letters)))"
   ]
  },
  {
   "cell_type": "code",
   "execution_count": 37,
   "metadata": {},
   "outputs": [
    {
     "name": "stdout",
     "output_type": "stream",
     "text": [
      "Please write your word that consists of a-z lettersclarusway\n",
      "True\n"
     ]
    }
   ],
   "source": [
    "eft_hand_letters = set('qwertasdfgzxcvb')\n",
    "right_hand_letters = set('yuıopğühjklşinmöç')\n",
    "user_word = set(input('Please write your word that consists of a-z letters'))\n",
    "not_comfortable = user_word.intersection(left_hand_letters) == user_word or \\\n",
    "                  user_word.intersection(right_hand_letters) == user_word\n",
    "print(not not_comfortable)"
   ]
  },
  {
   "cell_type": "code",
   "execution_count": 39,
   "metadata": {},
   "outputs": [
    {
     "name": "stdout",
     "output_type": "stream",
     "text": [
      "enter the word : tester\n",
      "set()\n",
      "{'s', 'r', 't', 'e'}\n",
      "False\n"
     ]
    }
   ],
   "source": [
    "word = set(input(\"enter the word : \"))\n",
    "left_hand = set('qwertasdfgzxcv')\n",
    "right_hand = set('yuıophjklbnm')\n",
    "a = word.intersection(right_hand)\n",
    "b = word.intersection(left_hand)\n",
    "c=  word != a and word != b\n",
    "print(a)\n",
    "print(b)\n",
    "print(c)"
   ]
  },
  {
   "cell_type": "code",
   "execution_count": 64,
   "metadata": {},
   "outputs": [
    {
     "name": "stdout",
     "output_type": "stream",
     "text": [
      "{'1': 'bir', '2': 'iki', '3': 'uc'}\n",
      "{'1': 'bir', '2': 'iki', '3': 'uc', '4': 'dort', '5': 'bes', '6': 'alti'}\n",
      "{'2': 'iki', '3': 'uc', '4': 'dort', '5': 'bes', '6': 'alti'}\n",
      "False\n"
     ]
    }
   ],
   "source": [
    "sozluk = {'1': 'bir', '2' : 'iki', '3' : 'uc'} # dict olusturulur.\n",
    "print (sozluk)\n",
    "sozluk.update({'4':'dort', '5':'bes','6':'alti'}) # dict icine ekleme yapar.\n",
    "print (sozluk)\n",
    "del sozluk['1'] # del icin key kullanilir.\n",
    "print (sozluk)\n",
    "print('iki' in sozluk) # sadece keyler sorgulanir values degil."
   ]
  },
  {
   "cell_type": "code",
   "execution_count": 61,
   "metadata": {},
   "outputs": [
    {
     "name": "stdout",
     "output_type": "stream",
     "text": [
      "True\n",
      "False\n"
     ]
    }
   ],
   "source": [
    "xx =[22,33,44]\n",
    "print(55 not in xx)\n",
    "print(55 in xx)"
   ]
  },
  {
   "cell_type": "code",
   "execution_count": null,
   "metadata": {},
   "outputs": [],
   "source": []
  }
 ],
 "metadata": {
  "kernelspec": {
   "display_name": "Python 3",
   "language": "python",
   "name": "python3"
  },
  "language_info": {
   "codemirror_mode": {
    "name": "ipython",
    "version": 3
   },
   "file_extension": ".py",
   "mimetype": "text/x-python",
   "name": "python",
   "nbconvert_exporter": "python",
   "pygments_lexer": "ipython3",
   "version": "3.7.6"
  }
 },
 "nbformat": 4,
 "nbformat_minor": 4
}
