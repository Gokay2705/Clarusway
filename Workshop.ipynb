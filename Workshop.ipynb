{
 "cells": [
  {
   "cell_type": "markdown",
   "metadata": {},
   "source": [
    "Workshop"
   ]
  },
  {
   "cell_type": "code",
   "execution_count": 5,
   "metadata": {},
   "outputs": [
    {
     "name": "stdout",
     "output_type": "stream",
     "text": [
      "I am Mustafa and I am 36 years old.\n"
     ]
    }
   ],
   "source": [
    "age = 36\n",
    "name = \"Mustafa\"\n",
    "output = \"I am {} and I am {} years old.\".format(name, age)\n",
    "print(output)\n"
   ]
  },
  {
   "cell_type": "code",
   "execution_count": 12,
   "metadata": {},
   "outputs": [
    {
     "name": "stdout",
     "output_type": "stream",
     "text": [
      "Winter months are january, february, march.\n",
      "Winter months are January, February, March.\n"
     ]
    }
   ],
   "source": [
    "month = [\"january\", [\"sumMER\", \"February\"], [\"april\", \"mAy\"], [[\"AUtumn\",\"JUNE\",\"jULY\"], \"august\"]]\n",
    "season = [[\"october \", \"September\"],[[\"spring\", \"maRCH\"], \"November\", \"winTER\", \"december\"]]\n",
    "\n",
    "print(\"{} months are {}, {}, {}.\".format(season[1][2], month[0], month[1][1], season[1][0][1]).capitalize())\n",
    "print(f\"{season[1][2].title()} months are {month[0].title()}, {month[1][1].title()}, {season[1][0][1].title()}.\")"
   ]
  },
  {
   "cell_type": "code",
   "execution_count": 72,
   "metadata": {},
   "outputs": [
    {
     "name": "stdout",
     "output_type": "stream",
     "text": [
      "Beni korkutan kötülerin ['baskısı'] ['değil', 'iyilerin'] kayıtsızlığı. – Martin Luther King\n",
      "Beni korkutan  baskısı değil iyilerin kayıtsızlığı. – Martin Luther King \n"
     ]
    }
   ],
   "source": [
    "sentence_1 = [\"cccBenicckorkutanccc\"]\n",
    "sentence_2 = (\"ccckötülerincccc\")\n",
    "sentence_3 = [[\"baskısı\"],[\"değil\", \"iyilerin\"], (\"ccckayıtsızlığı.\")]\n",
    "sentence_4 = \"– Martin Luther King\"\n",
    "\n",
    "print(f\"{sentence_1[0].strip('ccc').replace('cc', ' ')} {sentence_2.strip('ccc')} {(sentence_3[0])} {sentence_3[1]} \"\\\n",
    "      f\"{sentence_3[2].lstrip('ccc')} {sentence_4}\")\n",
    "\n",
    "s1 = sentence_1[0].strip('ccc').split('cc')\n",
    "s2 = [sentence_2[0].strip('c')]\n",
    "s3 = [sentence_3[0][0], sentence_3[1][0], sentence_3[1][1], sentence_3[2].lstrip('c')]\n",
    "s4 = [sentence_4]\n",
    "s_list = s1 + s2 + s3 + s4\n",
    "a = print(f\"{s_list[0]} {s_list[1]} {s_list[2]} {s_list[3]} {s_list[4]} {s_list[5]} {s_list[6]} {s_list[7]} \")"
   ]
  },
  {
   "cell_type": "code",
   "execution_count": 56,
   "metadata": {},
   "outputs": [
    {
     "name": "stdout",
     "output_type": "stream",
     "text": [
      "[3, 6, 9, 12, 15, 18, 21, 24, 27, 30, 33, 36, 39, 42, 45, 48, 51, 54, 57, 60, 63, 66, 69, 72, 75, 78, 81, 84, 87, 90, 93, 96, 99]\n"
     ]
    }
   ],
   "source": [
    "out = list(range(3, 101 ,3))\n",
    "print(out)"
   ]
  },
  {
   "cell_type": "code",
   "execution_count": 66,
   "metadata": {},
   "outputs": [
    {
     "name": "stdout",
     "output_type": "stream",
     "text": [
      "4,367,251\n"
     ]
    }
   ],
   "source": [
    "population = {\n",
    "    'istanbul' : 15_519_267,\n",
    "    'Ankara' : 5_639_076,\n",
    "    'izmir' : 4_367_251,\n",
    "    'Bursa' : 3_056_120,\n",
    "    'Antalya' : 2_511_700\n",
    "}\n",
    "print(\"{:,}\".format(population['izmir']))"
   ]
  },
  {
   "cell_type": "code",
   "execution_count": null,
   "metadata": {},
   "outputs": [],
   "source": [
    "# basketbol kursu:  Ahmet, Hasan, Cenk, Filiz, Gökhan, Sema, Kaan\n",
    "# voleybol kursu: Melek, Özlem, Alper, Sema, Cenk, Filiz, Gülhan\n",
    "# futbol kursu : Ahmet, Kaan, Mustafa, Doğukan, Umut, Yasin, Gülhan, Nesrin\n",
    "# tenis kursu : Gökhan, Özlem, Doğukan, Sinan\n",
    "# 6/A şubesindeki tüm öğrenciler en az bir spor kursunu takip etmektedir. Buna göre 6/A sınıfı kaç kişidir."
   ]
  },
  {
   "cell_type": "code",
   "execution_count": 75,
   "metadata": {},
   "outputs": [
    {
     "name": "stdout",
     "output_type": "stream",
     "text": [
      "17\n",
      "3\n",
      "{'Filiz', 'Cenk', 'Sema'}\n"
     ]
    }
   ],
   "source": [
    "basketbol = {'Ahmet', 'Hasan', 'Cenk', 'Filiz', 'Gökhan', 'Sema', 'Kaan'}\n",
    "voleybol = {'Melek', 'Özlem', 'Alper', 'Sema', 'Cenk', 'Filiz', 'Gülhan'}\n",
    "futbol = {'Ahmet', 'Kaan', 'Mustafa', 'Doğukan', 'Umut', 'Yasin', 'Gülhan', 'Nesrin'}\n",
    "tenis = {'Gökhan', 'Özlem', 'Doğukan', 'Sinan'}\n",
    "\n",
    "sinif = set(basketbol | voleybol | futbol | tenis)\n",
    "print(len(sinif))\n",
    "\n",
    "bas_fut = set(basketbol & voleybol)\n",
    "print(len(bas_fut))\n",
    "print(bas_fut)"
   ]
  },
  {
   "cell_type": "code",
   "execution_count": null,
   "metadata": {},
   "outputs": [],
   "source": []
  }
 ],
 "metadata": {
  "kernelspec": {
   "display_name": "Python 3",
   "language": "python",
   "name": "python3"
  },
  "language_info": {
   "codemirror_mode": {
    "name": "ipython",
    "version": 3
   },
   "file_extension": ".py",
   "mimetype": "text/x-python",
   "name": "python",
   "nbconvert_exporter": "python",
   "pygments_lexer": "ipython3",
   "version": "3.7.6"
  }
 },
 "nbformat": 4,
 "nbformat_minor": 4
}
