{
 "cells": [
  {
   "cell_type": "code",
   "execution_count": 3,
   "metadata": {},
   "outputs": [
    {
     "data": {
      "text/plain": [
       "'C:\\\\Users\\\\Fixzone\\\\Python Folder'"
      ]
     },
     "execution_count": 3,
     "metadata": {},
     "output_type": "execute_result"
    }
   ],
   "source": [
    "pwd"
   ]
  },
  {
   "cell_type": "code",
   "execution_count": 5,
   "metadata": {},
   "outputs": [
    {
     "name": "stdout",
     "output_type": "stream",
     "text": [
      "<class '_io.TextIOWrapper'>\n"
     ]
    }
   ],
   "source": [
    "my_file = open(\"first_file.txt\")  # this syntax opens a 'txt' file \n",
    "\n",
    "print(type(my_file))"
   ]
  },
  {
   "cell_type": "code",
   "execution_count": 6,
   "metadata": {},
   "outputs": [],
   "source": [
    "my_file = open(\"first_file.txt\", encoding=\"utf-8\")"
   ]
  },
  {
   "cell_type": "code",
   "execution_count": null,
   "metadata": {},
   "outputs": [],
   "source": [
    "#'r'\tOpen for reading (default). If the file doesn't exist, FileNotFoundError will raise.\n",
    "#'a'\tOpen for writing. It will append to the end of the file if it already exists. If there is no file, it will create it.\n",
    "#'w'\tOpen for writing. It will be overwritten if the file already exists. If there is no file, it will create it.\n",
    "#'x'\tOpen for exclusive creation, it will fail if the file already exists.\n",
    "#'b'\tOpen in binary mode.\n",
    "#'t'\tOpen as a text file (default).\n",
    "#'+'\tOpen for updating (reading and writing)."
   ]
  },
  {
   "cell_type": "code",
   "execution_count": 7,
   "metadata": {},
   "outputs": [
    {
     "name": "stdout",
     "output_type": "stream",
     "text": [
      "Orca is a kind of Dolphin.\n",
      "Blue Whale is the largest animal known on earth.\n",
      "Sharks are the sister group to the Rays (batoids).\n",
      "The Tuna Fish can weigh up to 260 kg.\n",
      "Squid and Octopus are in the same class.\n"
     ]
    }
   ],
   "source": [
    "sea = open(\"fishes.txt\", 'r')   \n",
    "\n",
    "print(sea.read())  # displays the entire text content\n",
    "\n",
    "sea.close()  # be sure to close the file"
   ]
  },
  {
   "cell_type": "code",
   "execution_count": 25,
   "metadata": {},
   "outputs": [
    {
     "name": "stdout",
     "output_type": "stream",
     "text": [
      "Orca is a kind of Dolphin.\n",
      "Blue W\n",
      "\n",
      "Orc\n",
      "\n",
      "3\n",
      "\n",
      "a is a kind of Dolphin.\n",
      "Blu\n"
     ]
    }
   ],
   "source": [
    "sea = open(\"fishes.txt\", 'r') \n",
    "print(sea.read(33))\n",
    "sea.seek(0)  # imleci '0' konumuna alir.\n",
    "print()\n",
    "print(sea.read(3))\n",
    "print()\n",
    "print(sea.tell())  # imlec nerede bize verir.\n",
    "print()\n",
    "print(sea.read(27))"
   ]
  },
  {
   "cell_type": "markdown",
   "metadata": {},
   "source": [
    "# 1. .read(size) :"
   ]
  },
  {
   "cell_type": "code",
   "execution_count": 8,
   "metadata": {},
   "outputs": [
    {
     "name": "stdout",
     "output_type": "stream",
     "text": [
      "Orca is a kind of Dolphin.\n",
      "Blue W\n",
      "\n",
      "hale is the largest anima\n",
      "\n",
      "Orca is a kind of Dolphin.\n",
      "Blue W\n",
      "\n",
      "34\n"
     ]
    }
   ],
   "source": [
    "sea = open(\"fishes.txt\", 'r')   \n",
    "\n",
    "print(sea.read(33))  # displays the first 33 chars of the text\n",
    "print()\n",
    "print(sea.read(25))  # displays the next 25 chars of the text\n",
    "print()\n",
    "sea.seek(0)  # changes the stream (cursor) position to zero\n",
    "print(sea.read(33))  # displays the first 33 chars again\n",
    "print()\n",
    "print(sea.tell())  # returns the current stream (cursor) position\n",
    "\n",
    "sea.close()"
   ]
  },
  {
   "cell_type": "code",
   "execution_count": 9,
   "metadata": {},
   "outputs": [
    {
     "name": "stdout",
     "output_type": "stream",
     "text": [
      "Orca \n"
     ]
    }
   ],
   "source": [
    "my_file = open(\"fishes.txt\", 'r')   \n",
    "print(my_file.read(5)) \n",
    "my_file.close()"
   ]
  },
  {
   "cell_type": "code",
   "execution_count": 27,
   "metadata": {},
   "outputs": [
    {
     "name": "stdout",
     "output_type": "stream",
     "text": [
      "Orca is a kind of Dolphin.\n",
      "Blue W\n",
      "\n",
      "Orc\n",
      "\n",
      "3\n",
      "\n",
      "a is a kind of Dolphin.\n",
      "Blu\n"
     ]
    }
   ],
   "source": [
    "sea = open(file = \"fishes.txt\", mode = 'r') \n",
    "print(sea.read(33))\n",
    "sea.seek(0)  # imleci '0' konumuna alir.\n",
    "print()\n",
    "print(sea.read(3))\n",
    "print()\n",
    "print(sea.tell())  # imlec nerede bize verir.\n",
    "print()\n",
    "print(sea.read(27))"
   ]
  },
  {
   "cell_type": "markdown",
   "metadata": {},
   "source": [
    "# 2. .readline(size) :"
   ]
  },
  {
   "cell_type": "code",
   "execution_count": 10,
   "metadata": {},
   "outputs": [
    {
     "name": "stdout",
     "output_type": "stream",
     "text": [
      "Orca is a kind of Dolphin.\n",
      "\n",
      "Blue Whale is the largest animal known on earth.\n",
      "\n",
      "Sharks are the sister group to the Rays (batoids).\n",
      "\n"
     ]
    }
   ],
   "source": [
    "sea = open(\"fishes.txt\", 'r')   \n",
    "\n",
    "print(sea.readline())  # displays the first line of the text\n",
    "print(sea.readline())  # displays the second line\n",
    "print(sea.readline())  # each time it goes to the new line\n",
    "\n",
    "sea.close()"
   ]
  },
  {
   "cell_type": "code",
   "execution_count": 11,
   "metadata": {},
   "outputs": [
    {
     "name": "stdout",
     "output_type": "stream",
     "text": [
      "Orca is a kin\n",
      "d of Dolphin.\n",
      "\n",
      "\n",
      "Blue Whale is\n"
     ]
    }
   ],
   "source": [
    "sea = open(\"fishes.txt\", 'r')   \n",
    "\n",
    "print(sea.readline(13))\n",
    "print(sea.readline(13))\n",
    "print(sea.readline(13))\n",
    "print(sea.readline(13))\n",
    "\n",
    "sea.close()"
   ]
  },
  {
   "cell_type": "code",
   "execution_count": 1,
   "metadata": {},
   "outputs": [
    {
     "name": "stdout",
     "output_type": "stream",
     "text": [
      "I want to sing\n",
      "\n",
      "Like the birds sing,\n",
      "\n",
      "Not worrying abou\n"
     ]
    }
   ],
   "source": [
    "sea = open(\"rumi.txt\", 'r')   \n",
    "\n",
    "print(sea.readline())\n",
    "print(sea.readline())\n",
    "print(sea.readline(17))\n",
    "\n",
    "\n",
    "sea.close()"
   ]
  },
  {
   "cell_type": "markdown",
   "metadata": {},
   "source": [
    "# 3. .readlines() :"
   ]
  },
  {
   "cell_type": "code",
   "execution_count": 12,
   "metadata": {},
   "outputs": [
    {
     "name": "stdout",
     "output_type": "stream",
     "text": [
      "['Orca is a kind of Dolphin.\\n', 'Blue Whale is the largest animal known on earth.\\n', 'Sharks are the sister group to the Rays (batoids).\\n', 'The Tuna Fish can weigh up to 260 kg.\\n', 'Squid and Octopus are in the same class.']\n"
     ]
    }
   ],
   "source": [
    "sea = open(\"fishes.txt\", 'r')   \n",
    "\n",
    "print(sea.readlines())\n",
    "\n",
    "sea.close()"
   ]
  },
  {
   "cell_type": "code",
   "execution_count": 14,
   "metadata": {},
   "outputs": [
    {
     "name": "stdout",
     "output_type": "stream",
     "text": [
      "Orca is a kind of Dolphin.\n",
      "\n",
      "['Blue Whale is the largest animal known on earth.\\n', 'Sharks are the sister group to the Rays (batoids).\\n', 'The Tuna Fish can weigh up to 260 kg.\\n', 'Squid and Octopus are in the same class.']\n"
     ]
    }
   ],
   "source": [
    "sea = open(\"fishes.txt\", 'r')   \n",
    "\n",
    "print(sea.readline())  # first line\n",
    "print(sea.readlines())  # the rest of the lines\n",
    "\n",
    "sea.close()"
   ]
  },
  {
   "cell_type": "code",
   "execution_count": 2,
   "metadata": {},
   "outputs": [
    {
     "name": "stdout",
     "output_type": "stream",
     "text": [
      "['I want to sing\\n', 'Like the birds sing,\\n', 'Not worrying about\\n', 'Who hears or\\n', 'What they think.']\n"
     ]
    }
   ],
   "source": [
    "sea = open(\"rumi.txt\", 'r')   \n",
    "\n",
    "\n",
    "print(sea.readlines())  # the rest of the lines\n",
    "\n",
    "sea.close()"
   ]
  },
  {
   "cell_type": "code",
   "execution_count": 15,
   "metadata": {},
   "outputs": [
    {
     "name": "stdout",
     "output_type": "stream",
     "text": [
      "<class 'list'>\n"
     ]
    }
   ],
   "source": [
    "sea = open(\"fishes.txt\", 'r')   \n",
    "\n",
    "print(type(sea.readlines()))\n",
    "\n",
    "sea.close()"
   ]
  },
  {
   "cell_type": "markdown",
   "metadata": {},
   "source": [
    "# 4. Using Loops :"
   ]
  },
  {
   "cell_type": "code",
   "execution_count": 16,
   "metadata": {},
   "outputs": [
    {
     "name": "stdout",
     "output_type": "stream",
     "text": [
      "Orca is a kind of Dolphin.\n",
      "\n",
      "Blue Whale is the largest animal known on earth.\n",
      "\n",
      "Sharks are the sister group to the Rays (batoids).\n",
      "\n",
      "The Tuna Fish can weigh up to 260 kg.\n",
      "\n",
      "Squid and Octopus are in the same class.\n"
     ]
    }
   ],
   "source": [
    "sea = open(\"fishes.txt\", 'r')   \n",
    "\n",
    "for line in sea:\n",
    "    print(line)\n",
    "\n",
    "sea.close()"
   ]
  },
  {
   "cell_type": "code",
   "execution_count": 4,
   "metadata": {},
   "outputs": [
    {
     "name": "stdout",
     "output_type": "stream",
     "text": [
      "I want to sing\n",
      "Like the birds sing,\n",
      "Not worrying about\n",
      "Who hears or\n",
      "What they think\n"
     ]
    }
   ],
   "source": [
    "sea = open(\"rumi.txt\", 'r')   \n",
    "\n",
    "for line in sea:\n",
    "    print(line[:-1])  # aradaki bosluklari alir.\n",
    "\n",
    "sea.close()"
   ]
  },
  {
   "cell_type": "code",
   "execution_count": 8,
   "metadata": {},
   "outputs": [
    {
     "name": "stdout",
     "output_type": "stream",
     "text": [
      "I want to sing\n",
      "\n",
      "Like the birds sing,\n",
      "\n",
      "Not worrying about\n",
      "\n",
      "Who hears or\n",
      "\n",
      "What they think.\n"
     ]
    }
   ],
   "source": [
    "sea = open(\"rumi.txt\", 'r')   \n",
    "\n",
    "for line in sea.readlines():\n",
    "    print(line, end=\"\")  # aradaki bosluklari alir.\n",
    "\n",
    "sea.close()"
   ]
  },
  {
   "cell_type": "code",
   "execution_count": 19,
   "metadata": {},
   "outputs": [
    {
     "name": "stdout",
     "output_type": "stream",
     "text": [
      "Orca is a kind of Dolphin.\n",
      "Blue Whale is the largest animal known on earth.\n",
      "Sharks are the sister group to the Rays (batoids).\n",
      "The Tuna Fish can weigh up to 260 kg.\n",
      "Squid and Octopus are in the same class.\n"
     ]
    }
   ],
   "source": [
    "with open(\"fishes.txt\", \"r\") as sea:\n",
    "    print(sea.read())  # needs indented code block\n",
    "\n",
    "# As you can see, in this case, we don't need to use the close() method to close the file. It does this on its own."
   ]
  },
  {
   "cell_type": "code",
   "execution_count": 26,
   "metadata": {},
   "outputs": [
    {
     "name": "stdout",
     "output_type": "stream",
     "text": [
      "Orca is a kind of Dolphin.\n",
      "\n"
     ]
    }
   ],
   "source": [
    "my_file = open(\"fishes.txt\", 'r')   \n",
    "print(my_file.readline()) \n",
    "my_file.close()"
   ]
  },
  {
   "cell_type": "code",
   "execution_count": 28,
   "metadata": {},
   "outputs": [
    {
     "name": "stdout",
     "output_type": "stream",
     "text": [
      "I want to sing\n",
      "\n",
      "Like the birds sing,\n",
      "\n",
      "Not worrying about\n",
      "\n",
      "Who hears or\n",
      "\n",
      "What they think.\n"
     ]
    }
   ],
   "source": [
    "my_file = open(\"rumi.txt\", 'r')\n",
    "\n",
    "for line in my_file:\n",
    "    print(line)\n",
    "\n",
    "my_file.close()"
   ]
  },
  {
   "cell_type": "markdown",
   "metadata": {},
   "source": [
    "# Closing Files"
   ]
  },
  {
   "cell_type": "code",
   "execution_count": 9,
   "metadata": {},
   "outputs": [
    {
     "name": "stdout",
     "output_type": "stream",
     "text": [
      "['I want to sing\\n', 'Like the birds sing,\\n', 'Not worrying about\\n', 'Who hears or\\n', 'What they think.']\n"
     ]
    }
   ],
   "source": [
    "with open(\"rumi.txt\", 'r', encoding=\"utf-8\") as file: \n",
    "    print(file.readlines())"
   ]
  },
  {
   "cell_type": "code",
   "execution_count": 10,
   "metadata": {},
   "outputs": [
    {
     "name": "stdout",
     "output_type": "stream",
     "text": [
      "I want to sing\n",
      "Like the birds sing,\n",
      "Not worrying about\n",
      "Who hears or\n",
      "What they think.\n"
     ]
    }
   ],
   "source": [
    "with open(\"rumi.txt\", 'r', encoding=\"utf-8\") as file: \n",
    "    print(file.read())"
   ]
  },
  {
   "cell_type": "code",
   "execution_count": 17,
   "metadata": {},
   "outputs": [
    {
     "name": "stdout",
     "output_type": "stream",
     "text": [
      "I want to sing\n",
      "\n",
      "['Like the birds sing,\\n', 'Not worrying about\\n', 'Who hears or\\n', 'What they think.']\n",
      "88\n",
      "I want to sing\n",
      "Like the birds sing,\n",
      "Not worrying about\n",
      "Who hears or\n",
      "What they think\n"
     ]
    }
   ],
   "source": [
    "with open(\"rumi.txt\", \"r\", encoding=\"utf-8\") as file:\n",
    "    print(file.readline())\n",
    "    print(file.readlines())\n",
    "    print(file.tell())\n",
    "    file.seek(0)\n",
    "    for i in file:\n",
    "        print(i[:-1])\n"
   ]
  },
  {
   "cell_type": "code",
   "execution_count": null,
   "metadata": {},
   "outputs": [],
   "source": []
  }
 ],
 "metadata": {
  "kernelspec": {
   "display_name": "Python 3.7.6 64-bit ('base': conda)",
   "language": "python",
   "name": "python37664bitbasecondad7ce78b4ea764cf9b42928a17b344cd7"
  },
  "language_info": {
   "codemirror_mode": {
    "name": "ipython",
    "version": 3
   },
   "file_extension": ".py",
   "mimetype": "text/x-python",
   "name": "python",
   "nbconvert_exporter": "python",
   "pygments_lexer": "ipython3",
   "version": "3.7.6"
  }
 },
 "nbformat": 4,
 "nbformat_minor": 4
}
