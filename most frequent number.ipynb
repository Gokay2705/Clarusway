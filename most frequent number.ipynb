

def most_freq(given_list): 
    counter = 0
    num = given_list[0] 
      
    for i in given_list: 
        curr_freq = given_list.count(i) 
        if(curr_freq> counter): 
            counter = curr_freq 
            num = i 
  
    return num 

print(most_freq([1,2,3,3,3,3,4,4,5,5])) 
print(most_freq([1,1,2,3,3]))
print(most_freq([3,1,2,1,3]))