{
 "cells": [
  {
   "cell_type": "markdown",
   "metadata": {},
   "source": [
    "We use *args when we aren’t sure how many arguments are going to be passed to a function, or if we want to pass a stored list or tuple of arguments to a function. **kwargs is used when we don’t know how many keyword arguments will be passed to a function, or it can be used to pass the values of a dictionary as keyword arguments. The identifiers args and kwargs are a convention, you could also use *bob and **billy but that would not be wise. "
   ]
  },
  {
   "cell_type": "code",
   "execution_count": 3,
   "metadata": {},
   "outputs": [],
   "source": [
    "def parrot(voltage, state='a stiff', action='voom', type='Norwegian Blue'):\n",
    "    print(\"-- This parrot wouldn't\", action, end=' ')\n",
    "    print(\"if you put\", voltage, \"volts through it.\")\n",
    "    print(\"-- Lovely plumage, the\", type)\n",
    "    print(\"-- It's\", state, \"!\")\n"
   ]
  },
  {
   "cell_type": "code",
   "execution_count": 4,
   "metadata": {},
   "outputs": [
    {
     "name": "stdout",
     "output_type": "stream",
     "text": [
      "-- This parrot wouldn't voom if you put 1000 volts through it.\n",
      "-- Lovely plumage, the Norwegian Blue\n",
      "-- It's a stiff !\n",
      "-- This parrot wouldn't voom if you put 1000 volts through it.\n",
      "-- Lovely plumage, the Norwegian Blue\n",
      "-- It's a stiff !\n",
      "-- This parrot wouldn't VOOOOOM if you put 1000000 volts through it.\n",
      "-- Lovely plumage, the Norwegian Blue\n",
      "-- It's a stiff !\n",
      "-- This parrot wouldn't VOOOOOM if you put 1000000 volts through it.\n",
      "-- Lovely plumage, the Norwegian Blue\n",
      "-- It's a stiff !\n",
      "-- This parrot wouldn't jump if you put a million volts through it.\n",
      "-- Lovely plumage, the Norwegian Blue\n",
      "-- It's bereft of life !\n",
      "-- This parrot wouldn't voom if you put a thousand volts through it.\n",
      "-- Lovely plumage, the Norwegian Blue\n",
      "-- It's pushing up the daisies !\n"
     ]
    }
   ],
   "source": [
    "parrot(1000)                                          # 1 positional argument\n",
    "parrot(voltage=1000)                                  # 1 keyword argument\n",
    "parrot(voltage=1000000, action='VOOOOOM')             # 2 keyword arguments\n",
    "parrot(action='VOOOOOM', voltage=1000000)             # 2 keyword arguments \n",
    "parrot('a million', 'bereft of life', 'jump')         # 3 positional arguments\n",
    "parrot('a thousand', state='pushing up the daisies')  # 1 positional, 1 keyword"
   ]
  },
  {
   "cell_type": "code",
   "execution_count": 2,
   "metadata": {},
   "outputs": [
    {
     "name": "stdout",
     "output_type": "stream",
     "text": [
      "Athens in Europe\n",
      "Ulaanbaatar in Asia\n",
      "Cape Town in Africa\n"
     ]
    }
   ],
   "source": [
    "def city(capital, continent='Europe'):\n",
    "    print(capital, 'in', continent)\n",
    "\n",
    "city('Athens')  # we don't have to pass any arguments into 'continent'\n",
    "city('Ulaanbaatar', continent='Asia')  # we can change the default value by kwargs\n",
    "city('Cape Town', 'Africa')  # we can change the default value by positional args."
   ]
  },
  {
   "cell_type": "code",
   "execution_count": 1,
   "metadata": {},
   "outputs": [
    {
     "name": "stdout",
     "output_type": "stream",
     "text": [
      "I want to get :\n",
      "- orange\n",
      "- banana\n",
      "- melon\n",
      "- ananas\n"
     ]
    }
   ],
   "source": [
    "def fruiterer(*fruit) :\n",
    "    print('I want to get :')\n",
    "    for i in fruit :\n",
    "        print('-', i)\n",
    "        \n",
    "fruiterer('orange', 'banana', 'melon', 'ananas')\n"
   ]
  },
  {
   "cell_type": "code",
   "execution_count": 8,
   "metadata": {},
   "outputs": [
    {
     "name": "stdout",
     "output_type": "stream",
     "text": [
      "Lions are Carnivores\n",
      "Bears are Omnivores\n",
      "Deers are Herbivores\n",
      "Human are Nomnivores\n"
     ]
    }
   ],
   "source": [
    "def animals(**kwargs):\n",
    "    for key, value in kwargs.items():\n",
    "        print(value, \"are\", key)\n",
    " \n",
    "animals(Carnivores=\"Lions\", Omnivores=\"Bears\", Herbivores=\"Deers\", Nomnivores=\"Human\")"
   ]
  },
  {
   "cell_type": "code",
   "execution_count": 6,
   "metadata": {},
   "outputs": [
    {
     "name": "stdout",
     "output_type": "stream",
     "text": [
      "Here are the names of brothers :\n",
      "tom\n",
      "sue\n",
      "tim\n"
     ]
    }
   ],
   "source": [
    "def brothers(bro1, bro2, bro3):\n",
    "    print('Here are the names of brothers :')\n",
    "    print(bro1, bro2, bro3, sep='\\n')\n",
    "\n",
    "family = ['tom', 'sue', 'tim']\n",
    "brothers(*family)\n"
   ]
  },
  {
   "cell_type": "code",
   "execution_count": 11,
   "metadata": {},
   "outputs": [
    {
     "name": "stdout",
     "output_type": "stream",
     "text": [
      "I love Clarusway!\n"
     ]
    }
   ],
   "source": [
    "def make_sentence(**kwargs):\n",
    "    result = \"\"\n",
    "    # Iterating over the Python kwargs dictionary\n",
    "    for i in kwargs.values():\n",
    "        result += i\n",
    "    return result\n",
    "\n",
    "print(make_sentence(a=\"I \", b=\"love \", c=\"Clarusway!\"))"
   ]
  },
  {
   "cell_type": "code",
   "execution_count": null,
   "metadata": {},
   "outputs": [],
   "source": []
  },
  {
   "cell_type": "code",
   "execution_count": null,
   "metadata": {},
   "outputs": [],
   "source": []
  }
 ],
 "metadata": {
  "kernelspec": {
   "display_name": "Python 3.8.3 64-bit",
   "language": "python",
   "name": "python38364bita7f47d0900394784b71c03f059c34a3b"
  },
  "language_info": {
   "codemirror_mode": {
    "name": "ipython",
    "version": 3
   },
   "file_extension": ".py",
   "mimetype": "text/x-python",
   "name": "python",
   "nbconvert_exporter": "python",
   "pygments_lexer": "ipython3",
   "version": "3.8.3"
  }
 },
 "nbformat": 4,
 "nbformat_minor": 4
}
