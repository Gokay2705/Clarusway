{
 "cells": [
  {
   "cell_type": "code",
   "execution_count": 1,
   "metadata": {},
   "outputs": [
    {
     "name": "stdout",
     "output_type": "stream",
     "text": [
      "Ben 2 sen\n"
     ]
    }
   ],
   "source": [
    "sen = 'Yakup'\n",
    "print('Ben',2,'sen')"
   ]
  },
  {
   "cell_type": "code",
   "execution_count": 4,
   "metadata": {},
   "outputs": [
    {
     "name": "stdout",
     "output_type": "stream",
     "text": [
      "ahmet,mehmet,asli-ahmet mehmet asli\n"
     ]
    }
   ],
   "source": [
    "print('ahmet', 'mehmet', 'asli', end='-', sep=',')\n",
    "print('ahmet', 'mehmet', 'asli')"
   ]
  },
  {
   "cell_type": "code",
   "execution_count": 5,
   "metadata": {},
   "outputs": [
    {
     "name": "stdout",
     "output_type": "stream",
     "text": [
      "value of x : 5\n",
      "value of x : 7 \n",
      "\n",
      "value of y : 10\n",
      "value of y : 8 \n",
      "\n"
     ]
    }
   ],
   "source": [
    "x = 5\n",
    "print ('value of x :', x)\n",
    "x += 2\n",
    "print ('value of x :', x, '\\n')\n",
    "y = 10\n",
    "print ('value of y :', y)\n",
    "y -= 2\n",
    "print ('value of y :', y, '\\n')\n"
   ]
  },
  {
   "cell_type": "code",
   "execution_count": 6,
   "metadata": {},
   "outputs": [
    {
     "name": "stdout",
     "output_type": "stream",
     "text": [
      "Enter Celsius Temperature to converts it Fahrenheit: 30\n",
      "\n",
      "30.0  Celsius equal to 86.0  Fahrenheit\n",
      "\n",
      "Enter a distance in Kilometers to converts it Miles: 24\n",
      "\n",
      "24.0  km equal to 14.912908613696015  miles\n"
     ]
    }
   ],
   "source": [
    "#Task 1\n",
    "degree = input ('Enter Celsius Temperature to converts it Fahrenheit: ')\n",
    "Celsius_to_Fahrenheit=(float(degree)*9)/5+32\n",
    "print(end='\\n')\n",
    "print(float(degree), ' Celsius equal to', Celsius_to_Fahrenheit, ' Fahrenheit')\n",
    "\n",
    "#Task 2\n",
    "print(end='\\n')\n",
    "km_distance = input ('Enter a distance in Kilometers to converts it Miles: ')\n",
    "km_to_mile=(float(km_distance)/1.609344)\n",
    "print(end='\\n')\n",
    "print(float(km_distance), ' km equal to', km_to_mile, ' miles')"
   ]
  },
  {
   "cell_type": "code",
   "execution_count": 12,
   "metadata": {},
   "outputs": [
    {
     "name": "stdout",
     "output_type": "stream",
     "text": [
      "Enter Celsius Temperature to converts it Fahrenheit: 30\n",
      "\n",
      "30.0  Celsius equal to 86.0  Fahrenheit\n"
     ]
    }
   ],
   "source": [
    "degree = input ('Enter Celsius Temperature to converts it Fahrenheit: ')\n",
    "def Celsius_to_Fahrenheit(degree):\n",
    "    Celsius_to_Fahrenheit = (float(degree)*9)/5+32\n",
    "    print(end='\\n')\n",
    "    print(float(degree), ' Celsius equal to', Celsius_to_Fahrenheit, ' Fahrenheit')\n",
    "    return\n",
    "Celsius_to_Fahrenheit(degree)"
   ]
  },
  {
   "cell_type": "code",
   "execution_count": 13,
   "metadata": {},
   "outputs": [
    {
     "name": "stdout",
     "output_type": "stream",
     "text": [
      "\n",
      "Enter a distance in Kilometers to converts it Miles: 24\n",
      "\n",
      "24.0  km equal to 14.912908613696015  miles\n"
     ]
    }
   ],
   "source": [
    "#Task 2 Fonk\n",
    "print(end='\\n')\n",
    "km_distance = input ('Enter a distance in Kilometers to converts it Miles: ')\n",
    "def km_to_mile (km_distance):\n",
    "\tkm_to_mile=(float(km_distance)/1.609344)\n",
    "\tprint(end='\\n')\n",
    "\tprint(float(km_distance), ' km equal to', km_to_mile, ' miles')\n",
    "\treturn\n",
    "\t\n",
    "km_to_mile (km_distance)"
   ]
  },
  {
   "cell_type": "code",
   "execution_count": 14,
   "metadata": {},
   "outputs": [
    {
     "name": "stdout",
     "output_type": "stream",
     "text": [
      "it's essential to learn Phyton's libraries in IT World\n"
     ]
    }
   ],
   "source": [
    "print('it\\'s essential to learn Phyton\\'s libraries in IT World')"
   ]
  },
  {
   "cell_type": "code",
   "execution_count": 15,
   "metadata": {},
   "outputs": [
    {
     "name": "stdout",
     "output_type": "stream",
     "text": [
      "it's essential to learn Phyton's libraries in IT World\n"
     ]
    }
   ],
   "source": [
    "print(\"it\\'s essential to learn Phyton\\'s libraries in IT World\")"
   ]
  },
  {
   "cell_type": "code",
   "execution_count": 49,
   "metadata": {},
   "outputs": [
    {
     "name": "stdout",
     "output_type": "stream",
     "text": [
      "Clarusway, Clarusway, Clarusway,\n",
      "\tClarusway, Clarusway, Clarusway,\n",
      "\t\tClarusway, Clarusway, Clarusway,\b"
     ]
    }
   ],
   "source": [
    "text = \"Clarusway,\"\n",
    "\n",
    "print(text, text, text, end='\\n')\n",
    "print( end='\\t')\n",
    "print(text, text, text, end='\\n')\n",
    "print( end='\\t')\n",
    "print( end='\\t')\n",
    "print(text, text, text, end='\\b')"
   ]
  },
  {
   "cell_type": "code",
   "execution_count": 27,
   "metadata": {},
   "outputs": [
    {
     "name": "stdout",
     "output_type": "stream",
     "text": [
      " \n",
      "Clarusway, Clarusway, Clarusway\n",
      "    Clarusway, Clarusway, Clarusway\n",
      "        Clarusway, Clarusway, Clarusway\n",
      "\n"
     ]
    }
   ],
   "source": [
    "print(\"\"\" \n",
    "Clarusway, Clarusway, Clarusway\n",
    "    Clarusway, Clarusway, Clarusway\n",
    "        Clarusway, Clarusway, Clarusway\n",
    "\"\"\")"
   ]
  },
  {
   "cell_type": "code",
   "execution_count": 47,
   "metadata": {},
   "outputs": [
    {
     "name": "stdout",
     "output_type": "stream",
     "text": [
      "Clarusway, Clarusway, Clarusway,\n",
      "\tClarusway, Clarusway, Clarusway,\n",
      "\t\tClarusway, Clarusway, Clarusway\n"
     ]
    }
   ],
   "source": [
    "text = \"Clarusway, Clarusway, Clarusway,\" + \"\\n\" + \"\\t\" + \"Clarusway, Clarusway, Clarusway,\" + \"\\n\" + \"\\t\" + \"\\t\" + \"Clarusway, Clarusway, Clarusway\"\n",
    "print(text)"
   ]
  },
  {
   "cell_type": "code",
   "execution_count": 55,
   "metadata": {},
   "outputs": [
    {
     "data": {
      "text/plain": [
       "'rr'"
      ]
     },
     "execution_count": 55,
     "metadata": {},
     "output_type": "execute_result"
    }
   ],
   "source": [
    "'qq' and 'ali' and 'veli'and 'rr'"
   ]
  },
  {
   "cell_type": "code",
   "execution_count": 56,
   "metadata": {},
   "outputs": [
    {
     "data": {
      "text/plain": [
       "[]"
      ]
     },
     "execution_count": 56,
     "metadata": {},
     "output_type": "execute_result"
    }
   ],
   "source": [
    "{0} and False or []"
   ]
  },
  {
   "cell_type": "code",
   "execution_count": 57,
   "metadata": {},
   "outputs": [
    {
     "data": {
      "text/plain": [
       "{0}"
      ]
     },
     "execution_count": 57,
     "metadata": {},
     "output_type": "execute_result"
    }
   ],
   "source": [
    "{0} or False and []"
   ]
  },
  {
   "cell_type": "code",
   "execution_count": null,
   "metadata": {},
   "outputs": [],
   "source": []
  }
 ],
 "metadata": {
  "kernelspec": {
   "display_name": "Python 3",
   "language": "python",
   "name": "python3"
  },
  "language_info": {
   "codemirror_mode": {
    "name": "ipython",
    "version": 3
   },
   "file_extension": ".py",
   "mimetype": "text/x-python",
   "name": "python",
   "nbconvert_exporter": "python",
   "pygments_lexer": "ipython3",
   "version": "3.7.6"
  }
 },
 "nbformat": 4,
 "nbformat_minor": 4
}
