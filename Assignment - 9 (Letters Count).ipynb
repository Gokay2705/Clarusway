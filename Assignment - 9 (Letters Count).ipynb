{
 "cells": [
  {
   "cell_type": "code",
   "execution_count": 1,
   "metadata": {},
   "outputs": [
    {
     "name": "stdout",
     "output_type": "stream",
     "text": [
      "Enter a text or \n",
      " enter a file name : asd\n",
      "{'a': 1, 'd': 1, 's': 1}\n"
     ]
    }
   ],
   "source": [
    "import csv\n",
    "def character_populater():\n",
    "    '''\n",
    "    Receives a sentence as an imput or a .txt or .csv file to populate all characters within a dictionary.\n",
    "    '''\n",
    "    try:\n",
    "        sentence = input('Enter a text or \\n enter a file name : ')\n",
    "        def populate(x):\n",
    "            character_set = set(x)\n",
    "            character_list = list(x)\n",
    "            populator = {}\n",
    "            for i in character_set:\n",
    "                populator[i] = character_list.count(i)\n",
    "            population_sorted = {k: v for k, v in sorted(populator.items(), reverse = True, key=lambda item: item[1])}\n",
    "            print(population_sorted)\n",
    "        if len(sentence.split()) ==1 and sentence[-4:] == '.txt':\n",
    "            with open(sentence, 'r', encoding = 'utf-8') as file:\n",
    "                interior = file.read()\n",
    "                populate(interior)                \n",
    "        elif len(sentence.split()) ==1 and sentence[-4:] == '.csv' :\n",
    "            with open(sentence, 'r', newline = '', encoding = 'utf-8') as file:\n",
    "                csv_rows = csv.reader(file, delimiter= \",\") \n",
    "                interior = file.read()\n",
    "                populate(interior)\n",
    "                populate(csv_rows)\n",
    "        else:\n",
    "            populate(sentence)          \n",
    "    except:\n",
    "        print(f'Unable to open file, please check if the file is in the right directory.')\n",
    "character_populater()"
   ]
  },
  {
   "cell_type": "code",
   "execution_count": 1,
   "metadata": {},
   "outputs": [
    {
     "name": "stdout",
     "output_type": "stream",
     "text": [
      "Enter a sentence to learn which letters has how many of them : Merhaba millet ben geldim.\n",
      "{'h': 1, 'n': 1, 'l': 3, 'a': 2, 'i': 2, 'g': 1, 'e': 4, 't': 1, 'd': 1, 'm': 3, 'b': 2, 'r': 1}\n"
     ]
    }
   ],
   "source": [
    "sentence = (input(\"Enter a sentence to learn which letters has how many of them : \")).lower()\n",
    "[i for i in (sentence)]\n",
    "letter = 'q w e r t z u i o p è a s d f g h j k l é à y x c v b n m'.split()\n",
    "letters = (set(letter))\n",
    "sentences = (list(sentence))\n",
    "tekrar = 0\n",
    "cikti = {}\n",
    "for i in letters:\n",
    "    if i in sentences:\n",
    "        tekrar = sentences.count(i) \n",
    "        # print(i, ':', tekrar) \n",
    "        cikti.update({i: tekrar})\n",
    "print(cikti)"
   ]
  },
  {
   "cell_type": "code",
   "execution_count": 2,
   "metadata": {},
   "outputs": [],
   "source": [
    "# Merhaba millet ben geldim."
   ]
  },
  {
   "cell_type": "code",
   "execution_count": null,
   "metadata": {},
   "outputs": [],
   "source": []
  }
 ],
 "metadata": {
  "kernelspec": {
   "display_name": "Python 3.8.2 32-bit",
   "language": "python",
   "name": "python38232bit521447a40b024cebbd62f0348bdf8259"
  },
  "language_info": {
   "codemirror_mode": {
    "name": "ipython",
    "version": 3
   },
   "file_extension": ".py",
   "mimetype": "text/x-python",
   "name": "python",
   "nbconvert_exporter": "python",
   "pygments_lexer": "ipython3",
   "version": "3.8.5"
  }
 },
 "nbformat": 4,
 "nbformat_minor": 4
}
