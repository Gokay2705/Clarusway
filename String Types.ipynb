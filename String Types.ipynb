{
 "cells": [
  {
   "cell_type": "code",
   "execution_count": 1,
   "metadata": {},
   "outputs": [
    {
     "name": "stdout",
     "output_type": "stream",
     "text": [
      "If we had bought $2000 cyripto coins at the weekend we would have had $4152.32 with a profit share of 11% after 5 days.\n"
     ]
    }
   ],
   "source": [
    "print('If we had bought ${money} cyripto coins at the weekend we would have had ${total_money} with a profit share of {profit}% after {day} days.'.format(money=2000, profit=11, day=5, total_money=4152.32) )\n"
   ]
  },
  {
   "cell_type": "code",
   "execution_count": 14,
   "metadata": {},
   "outputs": [
    {
     "name": "stdout",
     "output_type": "stream",
     "text": [
      "Write me\n"
     ]
    }
   ],
   "source": [
    "print((not 0) and \"write me\")"
   ]
  },
  {
   "cell_type": "code",
   "execution_count": 18,
   "metadata": {},
   "outputs": [
    {
     "name": "stdout",
     "output_type": "stream",
     "text": [
      "Susan is ayounglady and she is a studentat the CW IT University.\n"
     ]
    }
   ],
   "source": [
    "name='Susan'\n",
    "age='young'\n",
    "gender='lady'\n",
    "school='CW IT University.'\n",
    "output= f\"{name} is a{age}\"\\\n",
    "f\"{gender} and she is a student\"\\\n",
    "f\"at the {school}\"\n",
    "print(output)"
   ]
  },
  {
   "cell_type": "code",
   "execution_count": 20,
   "metadata": {},
   "outputs": [
    {
     "name": "stdout",
     "output_type": "stream",
     "text": [
      "Hello! I am a new programmer and I love Clarusway.\n"
     ]
    }
   ],
   "source": [
    "text = \"{0}! I am a {1} programmer and I {2} Clarusway.\".format(\"Hello\", \"new\", \"love\")\n",
    "print(text)"
   ]
  },
  {
   "cell_type": "code",
   "execution_count": 40,
   "metadata": {},
   "outputs": [
    {
     "name": "stdout",
     "output_type": "stream",
     "text": [
      "True\n",
      "False\n",
      "True\n",
      "False\n"
     ]
    }
   ],
   "source": [
    "email=\"clarusway@clarusway.com is my e-mail address\"\n",
    "print(email.startswith(\"@\",9, 21)) # 9 -21 arasini ara 9dan basla ilk karakter @ mi?\n",
    "print(email.endswith(\"-\", 10, 36))\n",
    "print(email.startswith((\"@\", \"c\", \"a\"), 9, 21)) # @ or c or a olur\n",
    "print(email.endswith((\"-\", \"s\", \"a\"), 10, 36))"
   ]
  },
  {
   "cell_type": "code",
   "execution_count": 58,
   "metadata": {},
   "outputs": [
    {
     "name": "stdout",
     "output_type": "stream",
     "text": [
      "Clarusway@clarusway.com is my E_mail address\n",
      "ClAruswAy@clarusway.com is my E-mail address\n",
      "Clarusway@Clarusway.Com Is My E-Mail Address\n",
      "CLARUSWAY@CLARUSWAY.COM IS MY E-MAIL ADDRESS\n",
      "clarusway@clarusway.com is my e-mail address\n",
      "cLARUSWAY@CLARUSWAY.COM IS MY e-MAIL ADDRESS\n",
      "Clarusway@clarusway.com is my e-mail address\n",
      "larusway@clarusway.com is my E-mail addre\n",
      "larusway@clarusway.com is my E-mail address\n",
      "Clarusway@clarusway.com is my E-mail addre\n"
     ]
    }
   ],
   "source": [
    "email=\"Clarusway@clarusway.com is my E-mail address\"\n",
    "print(email.replace('-', '_'))\n",
    "print(email.replace('a', 'A', 2))\n",
    "print(email.title())\n",
    "print(email.upper())\n",
    "print(email.lower())\n",
    "print(email.swapcase())\n",
    "print(email.capitalize())\n",
    "print(email.strip(\"Cs\")) # bastan ve sondan () yer alan degerleri siler. Sirasi onemli degil.\n",
    "print(email.lstrip(\"Cs\")) # soldan siler.\n",
    "print(email.rstrip(\"Cs\")) # sagdan siler."
   ]
  },
  {
   "cell_type": "code",
   "execution_count": null,
   "metadata": {},
   "outputs": [],
   "source": []
  }
 ],
 "metadata": {
  "kernelspec": {
   "display_name": "Python 3",
   "language": "python",
   "name": "python3"
  },
  "language_info": {
   "codemirror_mode": {
    "name": "ipython",
    "version": 3
   },
   "file_extension": ".py",
   "mimetype": "text/x-python",
   "name": "python",
   "nbconvert_exporter": "python",
   "pygments_lexer": "ipython3",
   "version": "3.7.6"
  }
 },
 "nbformat": 4,
 "nbformat_minor": 4
}
