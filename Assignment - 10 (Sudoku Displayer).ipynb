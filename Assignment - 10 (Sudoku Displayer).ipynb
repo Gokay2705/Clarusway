{
 "cells": [
  {
   "cell_type": "code",
   "execution_count": 1,
   "metadata": {},
   "outputs": [],
   "source": [
    "sudoku = [\n",
    "    [0, 0, 0, 0, 6, 4, 0, 0, 0],\n",
    "    [7, 0, 0, 0, 0, 0, 3, 9, 0],\n",
    "    [8, 0, 0, 0, 0, 0, 0, 0, 0],\n",
    "    [0, 0, 0, 5, 0, 2, 0, 6, 0],\n",
    "    [0, 8, 0, 4, 0, 0, 0, 0, 0],\n",
    "    [3, 5, 0, 6, 0, 0, 0, 7, 0],\n",
    "    [0, 0, 2, 0, 0, 0, 1, 0, 3],\n",
    "    [0, 0, 1, 0, 5, 9, 0, 0, 0],\n",
    "    [0, 0, 0, 0, 0, 0, 7, 0, 0]\n",
    "]"
   ]
  },
  {
   "cell_type": "code",
   "execution_count": 17,
   "metadata": {},
   "outputs": [
    {
     "data": {
      "text/plain": [
       "[0, 0, 0, 0, 6, 4, 0, 0, 0]"
      ]
     },
     "execution_count": 17,
     "metadata": {},
     "output_type": "execute_result"
    }
   ],
   "source": [
    "sudoku[0]"
   ]
  },
  {
   "cell_type": "code",
   "execution_count": 28,
   "metadata": {},
   "outputs": [
    {
     "name": "stdout",
     "output_type": "stream",
     "text": [
      "[0, 0, 0, 0, 6, 4, 0, 0, 0, 7, 0, 0, 0, 0, 0, 3, 9, 0, 8, 0, 0, 0, 0, 0, 0, 0, 0, 0, 0, 0, 5, 0, 2, 0, 6, 0, 0, 8, 0, 4, 0, 0, 0, 0, 0, 3, 5, 0, 6, 0, 0, 0, 7, 0, 0, 0, 2, 0, 0, 0, 1, 0, 3, 0, 0, 1, 0, 5, 9, 0, 0, 0, 0, 0, 0, 0, 0, 0, 7, 0, 0]\n"
     ]
    }
   ],
   "source": [
    "flatten_matrix = [] \n",
    "\n",
    "for sublist in sudoku: \n",
    "    for val in sublist: \n",
    "        flatten_matrix.append(val) \n",
    "          \n",
    "print(flatten_matrix) "
   ]
  },
  {
   "cell_type": "code",
   "execution_count": 107,
   "metadata": {},
   "outputs": [
    {
     "name": "stdout",
     "output_type": "stream",
     "text": [
      "- - - - - - - - - - - - \n",
      "0 0 0 ¦  0 6 4 ¦  0 0 0 \n",
      "\n",
      "7 0 0 ¦  0 0 0 ¦  3 9 0 \n",
      "\n",
      "8 0 0 ¦  0 0 0 ¦  0 0 0 \n",
      "\n",
      "- - - - - - - - - - - - \n",
      "0 0 0 ¦  5 0 2 ¦  0 6 0 \n",
      "\n",
      "0 8 0 ¦  4 0 0 ¦  0 0 0 \n",
      "\n",
      "3 5 0 ¦  6 0 0 ¦  0 7 0 \n",
      "\n",
      "- - - - - - - - - - - - \n",
      "0 0 2 ¦  0 0 0 ¦  1 0 3 \n",
      "\n",
      "0 0 1 ¦  0 5 9 ¦  0 0 0 \n",
      "\n",
      "0 0 0 ¦  0 0 0 ¦  7 0 0 \n",
      "\n",
      "- - - - - - - - - - - - \n"
     ]
    }
   ],
   "source": [
    "\n",
    "for i in range(len(flatten_matrix)):\n",
    "    while i == 0:\n",
    "        print(\"- \"*12)\n",
    "        break\n",
    "    print(flatten_matrix[i], end = ' ')\n",
    "    if i == 2 or i == 5 or i == 11 or i == 14 or i == 20 or i == 23 or i == 29 or i == 32or i == 38 or i == 41 or i == 47 or i == 50 or i == 56 or i == 59 or i ==65 or i == 68 or i == 74 or i == 77:\n",
    "        print(\"¦ \", end = ' ')\n",
    "    elif i == 8 or i == 17 or i == 26 or i == 35 or i == 44 or i == 53 or i == 62 or i == 71 or i == 80:\n",
    "        print('\\n')\n",
    "    while i == 26:\n",
    "        print(\"- \"*12)\n",
    "        break\n",
    "    while i == 53:\n",
    "        print(\"- \"*12)\n",
    "        break\n",
    "    while i == 80:\n",
    "        print(\"- \"*12)\n",
    "        break"
   ]
  },
  {
   "cell_type": "code",
   "execution_count": 113,
   "metadata": {},
   "outputs": [
    {
     "name": "stdout",
     "output_type": "stream",
     "text": [
      "- - - - - - - - - - - - \n",
      "0 0 0 ¦  0 6 4 ¦  0 0 0 \n",
      "\n",
      "7 0 0 ¦  0 0 0 ¦  3 9 0 \n",
      "\n",
      "8 0 0 ¦  0 0 0 ¦  0 0 0 \n",
      "\n",
      "- - - - - - - - - - - - \n",
      "0 0 0 ¦  5 0 2 ¦  0 6 0 \n",
      "\n",
      "0 8 0 ¦  4 0 0 ¦  0 0 0 \n",
      "\n",
      "3 5 0 ¦  6 0 0 ¦  0 7 0 \n",
      "\n",
      "- - - - - - - - - - - - \n",
      "0 0 2 ¦  0 0 0 ¦  1 0 3 \n",
      "\n",
      "0 0 1 ¦  0 5 9 ¦  0 0 0 \n",
      "\n",
      "0 0 0 ¦  0 0 0 ¦  7 0 0 \n",
      "\n",
      "- - - - - - - - - - - - \n"
     ]
    }
   ],
   "source": [
    "for i in range(len(flatten_matrix)):\n",
    "    while i == 0 or i == 27 or i == 54:\n",
    "        print(\"- \"*12)\n",
    "        break\n",
    "    print(flatten_matrix[i], end = ' ')\n",
    "    if i == 2 or i == 5 or i == 11 or i == 14 or i == 20 or i == 23 or i == 29 or i == 32or i == 38 or i == 41 or i == 47 or i == 50 or i == 56 or i == 59 or i ==65 or i == 68 or i == 74 or i == 77:\n",
    "        print(\"¦ \", end = ' ')\n",
    "    elif i == 8 or i == 17 or i == 26 or i == 35 or i == 44 or i == 53 or i == 62 or i == 71 or i == 80:\n",
    "        print('\\n')\n",
    "    while i == 80:\n",
    "        print(\"- \"*12)\n",
    "        break"
   ]
  },
  {
   "cell_type": "code",
   "execution_count": 114,
   "metadata": {},
   "outputs": [],
   "source": [
    "row = [2, 5, 11, 14, 20, 23, 29, 32, 38, 41, 47, 50, 56, 59, 65, 68, 74, 77]\n",
    "colm = [8, 17, 26, 35, 44, 53, 62, 71, 80]"
   ]
  },
  {
   "cell_type": "code",
   "execution_count": 115,
   "metadata": {},
   "outputs": [
    {
     "name": "stdout",
     "output_type": "stream",
     "text": [
      "- - - - - - - - - - - - \n",
      "0 0 0 ¦  0 6 4 ¦  0 0 0 \n",
      "\n",
      "7 0 0 ¦  0 0 0 ¦  3 9 0 \n",
      "\n",
      "8 0 0 ¦  0 0 0 ¦  0 0 0 \n",
      "\n",
      "- - - - - - - - - - - - \n",
      "0 0 0 ¦  5 0 2 ¦  0 6 0 \n",
      "\n",
      "0 8 0 ¦  4 0 0 ¦  0 0 0 \n",
      "\n",
      "3 5 0 ¦  6 0 0 ¦  0 7 0 \n",
      "\n",
      "- - - - - - - - - - - - \n",
      "0 0 2 ¦  0 0 0 ¦  1 0 3 \n",
      "\n",
      "0 0 1 ¦  0 5 9 ¦  0 0 0 \n",
      "\n",
      "0 0 0 ¦  0 0 0 ¦  7 0 0 \n",
      "\n",
      "- - - - - - - - - - - - \n"
     ]
    }
   ],
   "source": [
    "for i in range(len(flatten_matrix)):\n",
    "    while i == 0 or i == 27 or i == 54:\n",
    "        print(\"- \"*12)\n",
    "        break\n",
    "    print(flatten_matrix[i], end = ' ')\n",
    "    if i in row:\n",
    "        print(\"¦ \", end = ' ')\n",
    "    elif i in colm:\n",
    "        print('\\n')\n",
    "    while i == 80:\n",
    "        print(\"- \"*12)\n",
    "        break"
   ]
  },
  {
   "cell_type": "code",
   "execution_count": 117,
   "metadata": {},
   "outputs": [
    {
     "name": "stdout",
     "output_type": "stream",
     "text": [
      "- - - - - - - - - - - - \n",
      "0 0 0 ¦  0 6 4 ¦  0 0 0 \n",
      "\n",
      "7 0 0 ¦  0 0 0 ¦  3 9 0 \n",
      "\n",
      "8 0 0 ¦  0 0 0 ¦  0 0 0 \n",
      "\n",
      "- - - - - - - - - - - - \n",
      "0 0 0 ¦  5 0 2 ¦  0 6 0 \n",
      "\n",
      "0 8 0 ¦  4 0 0 ¦  0 0 0 \n",
      "\n",
      "3 5 0 ¦  6 0 0 ¦  0 7 0 \n",
      "\n",
      "- - - - - - - - - - - - \n",
      "0 0 2 ¦  0 0 0 ¦  1 0 3 \n",
      "\n",
      "0 0 1 ¦  0 5 9 ¦  0 0 0 \n",
      "\n",
      "0 0 0 ¦  0 0 0 ¦  7 0 0 \n",
      "\n",
      "- - - - - - - - - - - - \n"
     ]
    }
   ],
   "source": [
    "sudoku = [\n",
    "    [0, 0, 0, 0, 6, 4, 0, 0, 0],\n",
    "    [7, 0, 0, 0, 0, 0, 3, 9, 0],\n",
    "    [8, 0, 0, 0, 0, 0, 0, 0, 0],\n",
    "    [0, 0, 0, 5, 0, 2, 0, 6, 0],\n",
    "    [0, 8, 0, 4, 0, 0, 0, 0, 0],\n",
    "    [3, 5, 0, 6, 0, 0, 0, 7, 0],\n",
    "    [0, 0, 2, 0, 0, 0, 1, 0, 3],\n",
    "    [0, 0, 1, 0, 5, 9, 0, 0, 0],\n",
    "    [0, 0, 0, 0, 0, 0, 7, 0, 0]\n",
    "]\n",
    "\n",
    "flatten_matrix = [] \n",
    "\n",
    "for sublist in sudoku: \n",
    "    for val in sublist: \n",
    "        flatten_matrix.append(val) \n",
    "\n",
    "for i in range(len(flatten_matrix)):\n",
    "    while i == 0 or i == 27 or i == 54:\n",
    "        print(\"- \"*12)\n",
    "        break\n",
    "    print(flatten_matrix[i], end = ' ')\n",
    "    if i in row:\n",
    "        print(\"¦ \", end = ' ')\n",
    "    elif i in colm:\n",
    "        print('\\n')\n",
    "    while i == 80:\n",
    "        print(\"- \"*12)\n",
    "        break"
   ]
  },
  {
   "cell_type": "code",
   "execution_count": null,
   "metadata": {},
   "outputs": [],
   "source": []
  }
 ],
 "metadata": {
  "kernelspec": {
   "display_name": "Python 3.8.3 64-bit",
   "language": "python",
   "name": "python38364bita7f47d0900394784b71c03f059c34a3b"
  },
  "language_info": {
   "codemirror_mode": {
    "name": "ipython",
    "version": 3
   },
   "file_extension": ".py",
   "mimetype": "text/x-python",
   "name": "python",
   "nbconvert_exporter": "python",
   "pygments_lexer": "ipython3",
   "version": "3.8.5"
  }
 },
 "nbformat": 4,
 "nbformat_minor": 4
}
