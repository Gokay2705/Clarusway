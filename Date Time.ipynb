{
 "cells": [
  {
   "cell_type": "markdown",
   "metadata": {},
   "source": [
    "Date Time"
   ]
  },
  {
   "cell_type": "code",
   "execution_count": null,
   "metadata": {},
   "outputs": [],
   "source": [
    "import datetime\n",
    "\n",
    "#Print current time\n",
    "def print_time():\n",
    "    task_name = input('Please enter your task name : ')\n",
    "    print(task_name, 'Task Completed.')\n",
    "    print('Time :',datetime.datetime.now())\n",
    "    print()\n",
    "    return"
   ]
  },
  {
   "cell_type": "code",
   "execution_count": null,
   "metadata": {},
   "outputs": [],
   "source": [
    "print_time()"
   ]
  },
  {
   "cell_type": "code",
   "execution_count": null,
   "metadata": {},
   "outputs": [],
   "source": [
    "def print_out():  # Prints out your name and last name initials and full name.\n",
    "    first_name = input('Please enter first name : ')\n",
    "    last_name = input('Please enter last name  : ')\n",
    "    print()\n",
    "    \n",
    "    def get_initial(name):  # Gets your name and sirname's first letters.\n",
    "        initial = name[0:1].upper()\n",
    "        return initial\n",
    "\n",
    "    def full_name(name):  # Gets your name and last name.\n",
    "        initial = name.upper()\n",
    "        return initial\n",
    "\n",
    "    \n",
    "    print('Your names initials are : '\\\n",
    "     + get_initial(first_name)\\\n",
    "     + get_initial(last_name))\n",
    "    print()\n",
    "    print('Your full name is       : '\\\n",
    "     + full_name(first_name)\\\n",
    "     + \"\", full_name(last_name))"
   ]
  },
  {
   "cell_type": "code",
   "execution_count": null,
   "metadata": {},
   "outputs": [],
   "source": [
    "print_out()"
   ]
  },
  {
   "cell_type": "code",
   "execution_count": 26,
   "metadata": {},
   "outputs": [],
   "source": [
    "import datetime\n",
    "\n",
    "\n",
    "def print_out():  # Prints out your name and last name initials and full name.\n",
    "    first_name = input('Please enter first name     : ')\n",
    "    last_name = input('Please enter last name      : ')\n",
    "    task_name = input('Please enter your task name : ')\n",
    "    print()\n",
    "\n",
    "    def get_initial(name):  # Gets your name and sirname's first letters.\n",
    "        initial = name[0:1].upper()\n",
    "        return initial\n",
    "\n",
    "    def full_name(name):  # Gets your name and last name.\n",
    "        initial = name.upper()\n",
    "        return initial\n",
    "\n",
    "    \n",
    "    print('Your names initials are     : '\\\n",
    "     + get_initial(first_name)\\\n",
    "     + get_initial(last_name))\n",
    "    print()\n",
    "    print('Your full name is           : '\\\n",
    "     + full_name(first_name)\\\n",
    "     + \"\", full_name(last_name))\n",
    "    \n",
    "        \n",
    "    #Print current time\n",
    "    def print_time(task_name):\n",
    "        task = task_name.upper()\n",
    "        return task   \n",
    "    \n",
    "    print()\n",
    "    print(print_time(task_name)\\\n",
    "          +' Task Completed.')\n",
    "    print()\n",
    "    print('Time :',datetime.datetime.now())\n"
   ]
  },
  {
   "cell_type": "code",
   "execution_count": 25,
   "metadata": {},
   "outputs": [
    {
     "name": "stdout",
     "output_type": "stream",
     "text": [
      "Please enter first name     : qwe\n",
      "Please enter last name      : wsd\n",
      "Please enter your task name : 123\n",
      "\n",
      "Your names initials are     : QW\n",
      "\n",
      "Your full name is           : QWE WSD\n",
      "\n",
      "123 Task Completed.\n",
      "\n",
      "Time                     : 2020-07-13 16:55:07.248347\n"
     ]
    }
   ],
   "source": [
    "print_out()"
   ]
  },
  {
   "cell_type": "code",
   "execution_count": null,
   "metadata": {},
   "outputs": [],
   "source": []
  }
 ],
 "metadata": {
  "kernelspec": {
   "display_name": "Python 3.8.3 64-bit",
   "language": "python",
   "name": "python38364bita7f47d0900394784b71c03f059c34a3b"
  },
  "language_info": {
   "codemirror_mode": {
    "name": "ipython",
    "version": 3
   },
   "file_extension": ".py",
   "mimetype": "text/x-python",
   "name": "python",
   "nbconvert_exporter": "python",
   "pygments_lexer": "ipython3",
   "version": "3.8.3"
  }
 },
 "nbformat": 4,
 "nbformat_minor": 4
}
