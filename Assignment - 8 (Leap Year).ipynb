{
 "cells": [
  {
   "cell_type": "code",
   "execution_count": 4,
   "metadata": {},
   "outputs": [
    {
     "name": "stdout",
     "output_type": "stream",
     "text": [
      "insert a year please : 2100\n",
      "2100 is not a leap year\n"
     ]
    }
   ],
   "source": [
    "year = int(input(\"insert a year please : \"))\n",
    "\n",
    "if (year % 4) == 0:\n",
    "    if (year % 100) == 0:\n",
    "        if (year % 400) == 0:\n",
    "            print(year, \"is a leap year\")\n",
    "        else:\n",
    "            print(year, \"is not a leap year\")\n",
    "    else:\n",
    "         print(year, \"is a leap year\")          \n",
    "else:\n",
    "    print(year, \"is not a leap year\")"
   ]
  },
  {
   "cell_type": "code",
   "execution_count": 3,
   "metadata": {},
   "outputs": [
    {
     "name": "stdout",
     "output_type": "stream",
     "text": [
      "Artık Yıl Hesaplama Modülü\n",
      "Lütfen 4 haneli bir yıl giriniz.  96\n",
      "96 is a leap year\n"
     ]
    }
   ],
   "source": [
    "print(\"Artık Yıl Hesaplama Modülü\")\n",
    "year = input(\"Lütfen 4 haneli bir yıl giriniz.  \")\n",
    "year = int(year)\n",
    "if (year % 400) == 0:\n",
    "    print(year, \"is a leap year\")\n",
    "elif (year % 100) == 0:\n",
    "    print(year, \"is not a leap year\")\n",
    "elif (year % 4) == 0:\n",
    "    print(year, \"is a leap year\")\n",
    "else:\n",
    "    print(year, \"is not a leap year\")"
   ]
  },
  {
   "cell_type": "code",
   "execution_count": 5,
   "metadata": {},
   "outputs": [
    {
     "name": "stdout",
     "output_type": "stream",
     "text": [
      "bir yıl giriniz: 1800\n",
      "1800 is not a leap year\n"
     ]
    }
   ],
   "source": [
    "leap_year = int(input(\"bir yıl giriniz: \"))\n",
    "if leap_year % 4 == 0 and (leap_year % 400 == 0 or leap_year % 100 != 0) :\n",
    "    print(leap_year, \"is a leap year\")\n",
    "else:\n",
    "    print(leap_year, \"is not a leap year\")   "
   ]
  },
  {
   "cell_type": "code",
   "execution_count": 7,
   "metadata": {},
   "outputs": [
    {
     "name": "stdout",
     "output_type": "stream",
     "text": [
      "Enter a year interval to see all leap years within or \n",
      " enter just a year to see if it is a leap year or not : 100\n",
      "100 is NOT a leap year\n"
     ]
    }
   ],
   "source": [
    "def leap_detector():\n",
    "    '''\n",
    "    Checks if a given year is LEAP year (when input is just a year) or all leap years in a time interval (input cinsist of two years).\n",
    "    '''\n",
    "    try:\n",
    "        years = input('Enter a year interval to see all leap years within or \\n enter just a year to see if it is a leap year or not : ').split()\n",
    "        start = int(years[0])\n",
    "        if len(years) > 1 : \n",
    "            stop = int(years[1])\n",
    "            year_lst = list(range(start, stop))\n",
    "            print(f'Leap years between {start} - {stop} years : {list(filter((lambda x : x % 4 == 0 and x % 100 != 0 or x % 400 == 0), year_lst))}')\n",
    "        else:\n",
    "            if start % 4 == 0 and start % 100 != 0 or start % 400 == 0 :\n",
    "                print(f'{start} is a leap year')\n",
    "            else:\n",
    "                print(f'{start} is NOT a leap year')\n",
    "    except:\n",
    "        print(f'{years} is not valid. Please enter a valid year or year interval')\n",
    "leap_detector()\n",
    "        "
   ]
  },
  {
   "cell_type": "code",
   "execution_count": null,
   "metadata": {},
   "outputs": [],
   "source": []
  },
  {
   "cell_type": "code",
   "execution_count": null,
   "metadata": {},
   "outputs": [],
   "source": []
  },
  {
   "cell_type": "code",
   "execution_count": null,
   "metadata": {},
   "outputs": [],
   "source": []
  }
 ],
 "metadata": {
  "kernelspec": {
   "display_name": "Python 3.7.6 64-bit ('base': conda)",
   "language": "python",
   "name": "python37664bitbasecondad7ce78b4ea764cf9b42928a17b344cd7"
  },
  "language_info": {
   "codemirror_mode": {
    "name": "ipython",
    "version": 3
   },
   "file_extension": ".py",
   "mimetype": "text/x-python",
   "name": "python",
   "nbconvert_exporter": "python",
   "pygments_lexer": "ipython3",
   "version": "3.7.6"
  }
 },
 "nbformat": 4,
 "nbformat_minor": 4
}
