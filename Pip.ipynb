{
 "cells": [
  {
   "cell_type": "code",
   "execution_count": 1,
   "metadata": {},
   "outputs": [
    {
     "name": "stdout",
     "output_type": "stream",
     "text": [
      "pip 20.1.1 from C:\\Users\\Fixzone\\AppData\\Local\\Programs\\Python\\Python38-32\\lib\\site-packages\\pip (python 3.8)\n",
      "\n",
      "Note: you may need to restart the kernel to use updated packages.\n"
     ]
    }
   ],
   "source": [
    "pip --version"
   ]
  },
  {
   "cell_type": "code",
   "execution_count": 2,
   "metadata": {},
   "outputs": [
    {
     "name": "stdout",
     "output_type": "stream",
     "text": [
      "Package            Version\n",
      "------------------ -------\n",
      "astroid            2.4.2Note: you may need to restart the kernel to use updated packages.\n",
      "\n",
      "attrs              19.3.0\n",
      "backcall           0.2.0\n",
      "bleach             3.1.5\n",
      "colorama           0.4.3\n",
      "decorator          4.4.2\n",
      "defusedxml         0.6.0\n",
      "entrypoints        0.3\n",
      "ipykernel          5.3.2\n",
      "ipython            7.16.1\n",
      "ipython-genutils   0.2.0\n",
      "ipywidgets         7.5.1\n",
      "isort              4.3.21\n",
      "jedi               0.17.1\n",
      "Jinja2             2.11.2\n",
      "jsonschema         3.2.0\n",
      "jupyter            1.0.0\n",
      "jupyter-client     6.1.5\n",
      "jupyter-console    6.1.0\n",
      "jupyter-core       4.6.3\n",
      "lazy-object-proxy  1.4.3\n",
      "MarkupSafe         1.1.1\n",
      "mccabe             0.6.1\n",
      "mistune            0.8.4\n",
      "nbconvert          5.6.1\n",
      "nbformat           5.0.7\n",
      "notebook           6.0.3\n",
      "numpy              1.19.0\n",
      "packaging          20.4\n",
      "pandas             1.0.5\n",
      "pandocfilters      1.4.2\n",
      "parso              0.7.0\n",
      "pep8               1.7.1\n",
      "pickleshare        0.7.5\n",
      "pip                20.1.1\n",
      "prometheus-client  0.8.0\n",
      "prompt-toolkit     3.0.5\n",
      "Pygments           2.6.1\n",
      "pylint             2.5.3\n",
      "pyparsing          2.4.7\n",
      "pyrsistent         0.16.0\n",
      "python-dateutil    2.8.1\n",
      "pytz               2020.1\n",
      "pywin32            228\n",
      "pywinpty           0.5.7\n",
      "pyzmq              19.0.1\n",
      "qtconsole          4.7.5\n",
      "QtPy               1.9.0\n",
      "Send2Trash         1.5.0\n",
      "setuptools         47.1.0\n",
      "six                1.15.0\n",
      "terminado          0.8.3\n",
      "testpath           0.4.4\n",
      "toml               0.10.1\n",
      "tornado            6.0.4\n",
      "traitlets          4.3.3\n",
      "wcwidth            0.2.5\n",
      "webencodings       0.5.1\n",
      "widgetsnbextension 3.5.1\n",
      "wrapt              1.12.1\n"
     ]
    }
   ],
   "source": [
    "pip list"
   ]
  },
  {
   "cell_type": "code",
   "execution_count": 3,
   "metadata": {},
   "outputs": [
    {
     "name": "stdout",
     "output_type": "stream",
     "text": [
      "Name: pandas\n",
      "Version: 1.0.5\n",
      "Summary: Powerful data structures for data analysis, time series, and statistics\n",
      "Home-page: https://pandas.pydata.org\n",
      "Author: None\n",
      "Author-email: None\n",
      "License: BSD\n",
      "Location: c:\\users\\fixzone\\appdata\\local\\programs\\python\\python38-32\\lib\\site-packages\n",
      "Requires: numpy, python-dateutil, pytz\n",
      "Required-by: \n",
      "Note: you may need to restart the kernel to use updated packages.\n"
     ]
    }
   ],
   "source": [
    "pip show pandas\n"
   ]
  },
  {
   "cell_type": "code",
   "execution_count": 4,
   "metadata": {},
   "outputs": [
    {
     "name": "stdout",
     "output_type": "stream",
     "text": [
      "Name: prompt-toolkit\n",
      "Version: 3.0.5\n",
      "Summary: Library for building powerful interactive command lines in Python\n",
      "Home-page: https://github.com/prompt-toolkit/python-prompt-toolkit\n",
      "Author: Jonathan Slenders\n",
      "Author-email: None\n",
      "License: UNKNOWN\n",
      "Location: c:\\users\\fixzone\\appdata\\roaming\\python\\python38\\site-packages\n",
      "Requires: wcwidth\n",
      "Required-by: jupyter-console, ipython\n",
      "Note: you may need to restart the kernel to use updated packages.\n"
     ]
    }
   ],
   "source": [
    "pip show prompt-toolkit\n"
   ]
  },
  {
   "cell_type": "code",
   "execution_count": null,
   "metadata": {},
   "outputs": [],
   "source": []
  }
 ],
 "metadata": {
  "kernelspec": {
   "display_name": "Python 3.8.2 32-bit",
   "language": "python",
   "name": "python38232bit521447a40b024cebbd62f0348bdf8259"
  },
  "language_info": {
   "codemirror_mode": {
    "name": "ipython",
    "version": 3
   },
   "file_extension": ".py",
   "mimetype": "text/x-python",
   "name": "python",
   "nbconvert_exporter": "python",
   "pygments_lexer": "ipython3",
   "version": "3.8.4"
  }
 },
 "nbformat": 4,
 "nbformat_minor": 4
}
