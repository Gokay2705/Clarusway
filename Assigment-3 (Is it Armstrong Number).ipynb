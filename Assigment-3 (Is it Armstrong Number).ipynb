{
 "cells": [
  {
   "cell_type": "code",
   "execution_count": 14,
   "metadata": {},
   "outputs": [
    {
     "name": "stdout",
     "output_type": "stream",
     "text": [
      "enter your Armstong number : -6\n"
     ]
    },
    {
     "ename": "NameError",
     "evalue": "name 'number2' is not defined",
     "output_type": "error",
     "traceback": [
      "\u001b[1;31m---------------------------------------------------------------------------\u001b[0m",
      "\u001b[1;31mNameError\u001b[0m                                 Traceback (most recent call last)",
      "\u001b[1;32m<ipython-input-14-735b35ce7cc1>\u001b[0m in \u001b[0;36m<module>\u001b[1;34m\u001b[0m\n\u001b[0;32m      3\u001b[0m     \u001b[0mnumber2\u001b[0m \u001b[1;33m=\u001b[0m \u001b[0mlist\u001b[0m \u001b[1;33m(\u001b[0m\u001b[0mnumber\u001b[0m\u001b[1;33m)\u001b[0m\u001b[1;33m\u001b[0m\u001b[1;33m\u001b[0m\u001b[0m\n\u001b[0;32m      4\u001b[0m     \u001b[0mb\u001b[0m \u001b[1;33m=\u001b[0m \u001b[1;36m0\u001b[0m\u001b[1;33m\u001b[0m\u001b[1;33m\u001b[0m\u001b[0m\n\u001b[1;32m----> 5\u001b[1;33m \u001b[1;32mfor\u001b[0m \u001b[0mi\u001b[0m \u001b[1;32min\u001b[0m \u001b[0mnumber2\u001b[0m\u001b[1;33m:\u001b[0m\u001b[1;33m\u001b[0m\u001b[1;33m\u001b[0m\u001b[0m\n\u001b[0m\u001b[0;32m      6\u001b[0m     \u001b[0mi\u001b[0m \u001b[1;33m=\u001b[0m \u001b[0mint\u001b[0m\u001b[1;33m(\u001b[0m\u001b[0mi\u001b[0m\u001b[1;33m)\u001b[0m\u001b[1;33m\u001b[0m\u001b[1;33m\u001b[0m\u001b[0m\n\u001b[0;32m      7\u001b[0m     \u001b[0ma\u001b[0m \u001b[1;33m=\u001b[0m \u001b[0mi\u001b[0m\u001b[1;33m**\u001b[0m\u001b[0mlen\u001b[0m\u001b[1;33m(\u001b[0m\u001b[0mnumber2\u001b[0m\u001b[1;33m)\u001b[0m\u001b[1;33m\u001b[0m\u001b[1;33m\u001b[0m\u001b[0m\n",
      "\u001b[1;31mNameError\u001b[0m: name 'number2' is not defined"
     ]
    }
   ],
   "source": [
    "number = input(\"enter your Armstong number : \")\n",
    "if int(number) > 0 :\n",
    "    number2 = list (number)\n",
    "    b = 0\n",
    "for i in number2:\n",
    "    i = int(i)\n",
    "    a = i**len(number2)\n",
    "    b = b+a\n",
    "if int(number) == b:\n",
    "    print(number, \"is an Armstrong number\")\n",
    "elif int(number) != b:\n",
    "    print(number, \"is not an Armstrong number\")\n",
    "elif int(number) <= 0 :\n",
    "    print(\"It is an invalid entry. Don't use non-numeric, float, or negative values!\")"
   ]
  },
  {
   "cell_type": "code",
   "execution_count": 2,
   "metadata": {},
   "outputs": [
    {
     "name": "stdout",
     "output_type": "stream",
     "text": [
      "Insert a number : 123.5\n",
      "It is an invalid entry. Don't use non-numeric, float, or negative values!\n",
      "Insert a number : 123,5\n",
      "It is an invalid entry. Don't use non-numeric, float, or negative values!\n",
      "Insert a number : -2\n",
      "It is an invalid entry. Don't use non-numeric, float, or negative values!\n",
      "Insert a number : 234\n",
      "234 is not an Armstrong number.\n"
     ]
    }
   ],
   "source": [
    "num = (input(\"Insert a number : \")) # require age.\n",
    "\n",
    "while not num.isdigit() and num.find(','): # cotrol the num is number or not?\n",
    "    print(\"It is an invalid entry. Don't use non-numeric, float, or negative values!\")\n",
    "    num = (input(\"Insert a number : \"))\n",
    "\n",
    "sum = 0\n",
    "temp = int(num)\n",
    "\n",
    "while temp > 0:\n",
    "\n",
    "    digit = temp % 10\n",
    "\n",
    "    sum += digit ** 3\n",
    "\n",
    "    temp //= 10\n",
    "\n",
    "if num == sum:\n",
    "\n",
    "    print(num , \"is an Armstrong number.\")\n",
    "\n",
    "else:\n",
    "\n",
    "    print(num , \"is not an Armstrong number.\")"
   ]
  },
  {
   "cell_type": "code",
   "execution_count": null,
   "metadata": {},
   "outputs": [],
   "source": []
  }
 ],
 "metadata": {
  "kernelspec": {
   "display_name": "Python 3.8.3 64-bit",
   "language": "python",
   "name": "python38364bita7f47d0900394784b71c03f059c34a3b"
  },
  "language_info": {
   "codemirror_mode": {
    "name": "ipython",
    "version": 3
   },
   "file_extension": ".py",
   "mimetype": "text/x-python",
   "name": "python",
   "nbconvert_exporter": "python",
   "pygments_lexer": "ipython3",
   "version": "3.8.3"
  }
 },
 "nbformat": 4,
 "nbformat_minor": 4
}
