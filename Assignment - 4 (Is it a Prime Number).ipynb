{
 "cells": [
  {
   "cell_type": "markdown",
   "metadata": {},
   "source": [
    "Assignment - 4 (Is it a Prime Number?)"
   ]
  },
  {
   "cell_type": "code",
   "execution_count": null,
   "metadata": {},
   "outputs": [],
   "source": [
    "num = int(input('Enter a positive number greater than 1 please : ').strip())\n",
    "while (num == 0 or num == 1):\n",
    "  print(\"{} is not a prime number \".format(num))\n",
    "  num = int(input('Enter a number greater than 1 please : ').strip())\n",
    "while True:\n",
    "    count = 0\n",
    "    for i in range(1,num+1):\n",
    "        if num % i == 0:\n",
    "            count += 1\n",
    "    print(count)\n",
    "    if count <= 2:\n",
    "        break\n",
    "    else:\n",
    "        print(\"{} is a not prime number\".format(num))\n",
    "        num = int(input('Enter a number greater than 1 please : ').strip())\n",
    "print(\"{} is a prime number\".format(num))"
   ]
  },
  {
   "cell_type": "code",
   "execution_count": null,
   "metadata": {},
   "outputs": [],
   "source": [
    "prime_num = int(input('Enter a number please : '))\n",
    "for i in range(2, prime_num):\n",
    "    if (prime_num % i)==0:\n",
    "        print(prime_num, \"is not a prime number\")\n",
    "        break\n",
    "else:\n",
    "    print(prime_num, \"is a prime number\")"
   ]
  },
  {
   "cell_type": "code",
   "execution_count": 10,
   "metadata": {},
   "outputs": [
    {
     "name": "stdout",
     "output_type": "stream",
     "text": [
      "Insert a number : 11\n",
      "11 is a prime number\n"
     ]
    }
   ],
   "source": [
    "count = 0\n",
    "p_num = int(input('Insert a number : '))\n",
    "for i in range (2, p_num):\n",
    "    while (p_num % i) == 0:\n",
    "        count += 1\n",
    "        print(count)\n",
    "        break\n",
    "if count >= 1:\n",
    "    print (p_num, 'is not a prime number')\n",
    "else:\n",
    "    print (p_num, 'is a prime number')"
   ]
  },
  {
   "cell_type": "code",
   "execution_count": null,
   "metadata": {},
   "outputs": [],
   "source": []
  },
  {
   "cell_type": "code",
   "execution_count": null,
   "metadata": {},
   "outputs": [],
   "source": []
  }
 ],
 "metadata": {
  "kernelspec": {
   "display_name": "Python 3.8.3 64-bit",
   "language": "python",
   "name": "python38364bita7f47d0900394784b71c03f059c34a3b"
  },
  "language_info": {
   "codemirror_mode": {
    "name": "ipython",
    "version": 3
   },
   "file_extension": ".py",
   "mimetype": "text/x-python",
   "name": "python",
   "nbconvert_exporter": "python",
   "pygments_lexer": "ipython3",
   "version": "3.8.3"
  }
 },
 "nbformat": 4,
 "nbformat_minor": 4
}
