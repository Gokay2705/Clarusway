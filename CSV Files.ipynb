{
 "cells": [
  {
   "cell_type": "code",
   "execution_count": 6,
   "metadata": {},
   "outputs": [
    {
     "name": "stdout",
     "output_type": "stream",
     "text": [
      "no,fruit,amount\n",
      "1,Banana,4 lb\n",
      "2,Orange,5 lb\n",
      "3,Apple,2 lb\n",
      "4,Strawberry,6 lb\n",
      "5,Cherry,3 lb\n"
     ]
    }
   ],
   "source": [
    "basket = open(\"fruits.csv\", 'r')   \n",
    "print(basket.read())  # displays the entire text content\n",
    "basket.close()  # be sure to close the file"
   ]
  },
  {
   "cell_type": "code",
   "execution_count": 4,
   "metadata": {},
   "outputs": [
    {
     "name": "stdout",
     "output_type": "stream",
     "text": [
      "no,fruit,amount\n",
      "1,Banana,4 lb\n",
      "2,Orange,5 lb\n",
      "3,Apple,2 lb\n",
      "4,Strawberry,6 lb\n",
      "5,Cherry,3 lb\n"
     ]
    }
   ],
   "source": [
    "with open(\"fruits.csv\", 'r', encoding=\"utf-8\") as file:\n",
    "    print(file.read())"
   ]
  },
  {
   "cell_type": "code",
   "execution_count": 5,
   "metadata": {},
   "outputs": [
    {
     "name": "stdout",
     "output_type": "stream",
     "text": [
      "['no', 'fruit', 'amount']\n",
      "['1', 'Banana', '4 lb']\n",
      "['2', 'Orange', '5 lb']\n",
      "['3', 'Apple', '2 lb']\n",
      "['4', 'Strawberry', '6 lb']\n",
      "['5', 'Cherry', '3 lb']\n"
     ]
    }
   ],
   "source": [
    "import csv  # loads csv module\n",
    "\n",
    "with open(\"fruits.csv\", 'r', newline = '', encoding = 'utf-8') as file:  # newline kullanmasak da olur.\n",
    "    csv_rows = csv.reader(file)  # reader() function takes each\n",
    "                                 # row (lines) into a list\n",
    "    for row in csv_rows: \n",
    "        print(row)  "
   ]
  },
  {
   "cell_type": "code",
   "execution_count": 11,
   "metadata": {},
   "outputs": [
    {
     "name": "stdout",
     "output_type": "stream",
     "text": [
      "['no,fruit,amount']\n",
      "['1,Banana,4 lb']\n",
      "['2,Orange,5 lb']\n",
      "['3,Apple,2 lb']\n",
      "['4,Strawberry,6 lb']\n",
      "['5,Cherry,3 lb']\n"
     ]
    }
   ],
   "source": [
    "import csv\n",
    "\n",
    "with open(\"fruits.csv\", 'r', newline = '', encoding = 'utf-8') as file:\n",
    "    csv_rows = csv.reader(file, delimiter= \":\")  # gives the same output as the previous one\n",
    "                                                 # The default value of the delimiter parameter is \",\".\n",
    "                                                 # : koydugumuzda her bir stir tek bir liste olur.\n",
    "    for row in csv_rows: \n",
    "        print(row)  "
   ]
  },
  {
   "cell_type": "code",
   "execution_count": 8,
   "metadata": {},
   "outputs": [
    {
     "name": "stdout",
     "output_type": "stream",
     "text": [
      "['no,fruit,amount']\n",
      "['1,Banana,4 lb']\n",
      "['2,Orange,5 lb']\n",
      "['3,Apple,2 lb']\n",
      "['4,Strawberry,6 lb']\n",
      "['5,Cherry,3 lb']\n"
     ]
    }
   ],
   "source": [
    "import csv \n",
    "\n",
    "with open(\"fruits.csv\", 'r', newline = '', encoding = 'utf-8') as file:\n",
    "    csv_rows = csv.reader(file, delimiter = ':')  # we specified a char \":\" that is not used\n",
    "                                                  # in the csv file as a value of delimiter\n",
    "    for row in csv_rows: \n",
    "        print(row)   "
   ]
  },
  {
   "cell_type": "code",
   "execution_count": 2,
   "metadata": {},
   "outputs": [
    {
     "name": "stdout",
     "output_type": "stream",
     "text": [
      "row_number, first_name, last_name, ages\n",
      "1., Isabella, Bold, 22\n",
      "2., Lara, Bold, 12\n",
      "3., Solomon, Bold, 46\n",
      "4., Adam, Smithson, 40\n",
      "5., Mose, Smithson, 51\n"
     ]
    }
   ],
   "source": [
    "import csv\n",
    "with open(\"people.csv\", 'r', encoding=\"utf-8\") as file:\n",
    "    print(file.read())"
   ]
  },
  {
   "cell_type": "code",
   "execution_count": 12,
   "metadata": {},
   "outputs": [
    {
     "name": "stdout",
     "output_type": "stream",
     "text": [
      "['row_number, first_name, last_name, ages']\n",
      "['1., Isabella, Bold, 22']\n",
      "['2., Lara, Bold, 12']\n",
      "['3., Solomon, Bold, 46']\n",
      "['4., Adam, Smithson, 40']\n",
      "['5., Mose, Smithson, 51']\n"
     ]
    }
   ],
   "source": [
    "import csv\n",
    "with open(\"people.csv\", 'r', newline = '', encoding=\"utf-8\") as file:\n",
    "    csv_rows = csv.reader(file, delimiter= \"-\")\n",
    "    for row in csv_rows: \n",
    "        print(row)  "
   ]
  },
  {
   "cell_type": "code",
   "execution_count": 8,
   "metadata": {},
   "outputs": [
    {
     "name": "stdout",
     "output_type": "stream",
     "text": [
      "['row_number', 'first_name']\n",
      "['1.', 'Isabella']\n",
      "['2.', 'Lara']\n",
      "['3.', 'Solomon']\n",
      "['4.', 'Adam']\n",
      "['5.', 'Mose']\n"
     ]
    }
   ],
   "source": [
    "import csv\n",
    "with open(\"people_cpy.csv\", 'r', newline = '', encoding=\"utf-8\") as file:\n",
    "    csv_rows = csv.reader(file, delimiter= \"-\")\n",
    "    for row in csv_rows: \n",
    "        print(list(row[:2]))\n",
    "# people_cpy.csv dosyasinda , yerine - kullanildi.        "
   ]
  },
  {
   "cell_type": "code",
   "execution_count": 16,
   "metadata": {},
   "outputs": [],
   "source": [
    "import pandas as pd\n",
    "df = pd.read_csv(\"people.csv\", index_col = 0)"
   ]
  },
  {
   "cell_type": "code",
   "execution_count": 17,
   "metadata": {},
   "outputs": [
    {
     "data": {
      "text/html": [
       "<div>\n",
       "<style scoped>\n",
       "    .dataframe tbody tr th:only-of-type {\n",
       "        vertical-align: middle;\n",
       "    }\n",
       "\n",
       "    .dataframe tbody tr th {\n",
       "        vertical-align: top;\n",
       "    }\n",
       "\n",
       "    .dataframe thead th {\n",
       "        text-align: right;\n",
       "    }\n",
       "</style>\n",
       "<table border=\"1\" class=\"dataframe\">\n",
       "  <thead>\n",
       "    <tr style=\"text-align: right;\">\n",
       "      <th></th>\n",
       "      <th>first_name</th>\n",
       "      <th>last_name</th>\n",
       "      <th>ages</th>\n",
       "    </tr>\n",
       "    <tr>\n",
       "      <th>row_number</th>\n",
       "      <th></th>\n",
       "      <th></th>\n",
       "      <th></th>\n",
       "    </tr>\n",
       "  </thead>\n",
       "  <tbody>\n",
       "    <tr>\n",
       "      <th>1.0</th>\n",
       "      <td>Isabella</td>\n",
       "      <td>Bold</td>\n",
       "      <td>22</td>\n",
       "    </tr>\n",
       "    <tr>\n",
       "      <th>2.0</th>\n",
       "      <td>Lara</td>\n",
       "      <td>Bold</td>\n",
       "      <td>12</td>\n",
       "    </tr>\n",
       "    <tr>\n",
       "      <th>3.0</th>\n",
       "      <td>Solomon</td>\n",
       "      <td>Bold</td>\n",
       "      <td>46</td>\n",
       "    </tr>\n",
       "    <tr>\n",
       "      <th>4.0</th>\n",
       "      <td>Adam</td>\n",
       "      <td>Smithson</td>\n",
       "      <td>40</td>\n",
       "    </tr>\n",
       "    <tr>\n",
       "      <th>5.0</th>\n",
       "      <td>Mose</td>\n",
       "      <td>Smithson</td>\n",
       "      <td>51</td>\n",
       "    </tr>\n",
       "  </tbody>\n",
       "</table>\n",
       "</div>"
      ],
      "text/plain": [
       "            first_name  last_name   ages\n",
       "row_number                              \n",
       "1.0           Isabella       Bold     22\n",
       "2.0               Lara       Bold     12\n",
       "3.0            Solomon       Bold     46\n",
       "4.0               Adam   Smithson     40\n",
       "5.0               Mose   Smithson     51"
      ]
     },
     "execution_count": 17,
     "metadata": {},
     "output_type": "execute_result"
    }
   ],
   "source": [
    "df"
   ]
  },
  {
   "cell_type": "code",
   "execution_count": 25,
   "metadata": {},
   "outputs": [],
   "source": [
    "import pandas as pd\n",
    "df = pd.read_csv(\"fruits.csv\", sep = \",\", index_col = 0)"
   ]
  },
  {
   "cell_type": "code",
   "execution_count": 26,
   "metadata": {},
   "outputs": [
    {
     "data": {
      "text/html": [
       "<div>\n",
       "<style scoped>\n",
       "    .dataframe tbody tr th:only-of-type {\n",
       "        vertical-align: middle;\n",
       "    }\n",
       "\n",
       "    .dataframe tbody tr th {\n",
       "        vertical-align: top;\n",
       "    }\n",
       "\n",
       "    .dataframe thead th {\n",
       "        text-align: right;\n",
       "    }\n",
       "</style>\n",
       "<table border=\"1\" class=\"dataframe\">\n",
       "  <thead>\n",
       "    <tr style=\"text-align: right;\">\n",
       "      <th></th>\n",
       "      <th>fruit</th>\n",
       "      <th>amount</th>\n",
       "    </tr>\n",
       "    <tr>\n",
       "      <th>no</th>\n",
       "      <th></th>\n",
       "      <th></th>\n",
       "    </tr>\n",
       "  </thead>\n",
       "  <tbody>\n",
       "    <tr>\n",
       "      <th>1</th>\n",
       "      <td>Banana</td>\n",
       "      <td>4 lb</td>\n",
       "    </tr>\n",
       "    <tr>\n",
       "      <th>2</th>\n",
       "      <td>Orange</td>\n",
       "      <td>5 lb</td>\n",
       "    </tr>\n",
       "    <tr>\n",
       "      <th>3</th>\n",
       "      <td>Apple</td>\n",
       "      <td>2 lb</td>\n",
       "    </tr>\n",
       "    <tr>\n",
       "      <th>4</th>\n",
       "      <td>Strawberry</td>\n",
       "      <td>6 lb</td>\n",
       "    </tr>\n",
       "    <tr>\n",
       "      <th>5</th>\n",
       "      <td>Cherry</td>\n",
       "      <td>3 lb</td>\n",
       "    </tr>\n",
       "  </tbody>\n",
       "</table>\n",
       "</div>"
      ],
      "text/plain": [
       "         fruit amount\n",
       "no                   \n",
       "1       Banana   4 lb\n",
       "2       Orange   5 lb\n",
       "3        Apple   2 lb\n",
       "4   Strawberry   6 lb\n",
       "5       Cherry   3 lb"
      ]
     },
     "execution_count": 26,
     "metadata": {},
     "output_type": "execute_result"
    }
   ],
   "source": [
    "df"
   ]
  },
  {
   "cell_type": "code",
   "execution_count": null,
   "metadata": {},
   "outputs": [],
   "source": []
  }
 ],
 "metadata": {
  "kernelspec": {
   "display_name": "Python 3.8.2 32-bit",
   "language": "python",
   "name": "python38232bit521447a40b024cebbd62f0348bdf8259"
  },
  "language_info": {
   "codemirror_mode": {
    "name": "ipython",
    "version": 3
   },
   "file_extension": ".py",
   "mimetype": "text/x-python",
   "name": "python",
   "nbconvert_exporter": "python",
   "pygments_lexer": "ipython3",
   "version": "3.8.5"
  }
 },
 "nbformat": 4,
 "nbformat_minor": 4
}
