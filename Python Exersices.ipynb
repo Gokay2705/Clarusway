{
 "cells": [
  {
   "cell_type": "markdown",
   "metadata": {},
   "source": [
    "Assigment Armstrong Number."
   ]
  },
  {
   "cell_type": "code",
   "execution_count": null,
   "metadata": {},
   "outputs": [],
   "source": [
    "while True:\n",
    "    num = input('Insert a possitive number : ')\n",
    "    digits = len(num)\n",
    "    sum_num = 0\n",
    "    if not num.isdigit():\n",
    "        print(\"It is an invalid entry. Don't use non-numeric, float, or negative values!\")\n",
    "    elif int(num) >= 0:\n",
    "        for i in range(digits):\n",
    "            sum_num += int(num[i])**digits\n",
    "        if sum_num == int(num):\n",
    "            print(num, ' is an Armstrong number')\n",
    "            break\n",
    "        else:\n",
    "            print(num, ' is not an Armstrong number')\n",
    "            break\n",
    "        "
   ]
  },
  {
   "cell_type": "markdown",
   "metadata": {},
   "source": [
    "Assigment Prime Number."
   ]
  },
  {
   "cell_type": "code",
   "execution_count": 26,
   "metadata": {},
   "outputs": [
    {
     "name": "stdout",
     "output_type": "stream",
     "text": [
      "Insert a number : 2\n",
      "2 is a prime number.\n"
     ]
    }
   ],
   "source": [
    "num = int(input('Insert a number : '))\n",
    "count= 0\n",
    "for i in range(1, num+1):\n",
    "    if not (num % i) : count+= 1\n",
    "if (num == 0) or (num == 1) or (count > 2) : print(num, 'is not a prime number.')                \n",
    "else : print(num, 'is a prime number.')                                              "
   ]
  },
  {
   "cell_type": "markdown",
   "metadata": {},
   "source": [
    "Assigment Fibonacci Numbers"
   ]
  },
  {
   "cell_type": "code",
   "execution_count": 15,
   "metadata": {},
   "outputs": [
    {
     "name": "stdout",
     "output_type": "stream",
     "text": [
      "[1, 1, 2, 3, 5, 8, 13, 21, 34, 55]\n"
     ]
    }
   ],
   "source": [
    "fibo = []\n",
    "\n",
    "for i in range (-2, 8):\n",
    "    if i < 0 : fibo.append(1)\n",
    "    else: fibo.append(fibo[i] + fibo[i+1])\n",
    "\n",
    "print(fibo)\n",
    "        "
   ]
  },
  {
   "cell_type": "markdown",
   "metadata": {},
   "source": [
    "A sample of filter () function"
   ]
  },
  {
   "cell_type": "code",
   "execution_count": 23,
   "metadata": {},
   "outputs": [
    {
     "name": "stdout",
     "output_type": "stream",
     "text": [
      "a\n",
      "e\n",
      "i\n",
      "u\n"
     ]
    }
   ],
   "source": [
    "letters = [\"a\", \"b\", \"c\", \"d\", \"e\", \"i\", \"j\", \"x\", \"t\", \"u\"]\n",
    "\n",
    "def sesli_harf(let):\n",
    "    sesli = [\"a\", \"e\", \"i\", \"o\", \"u\"]\n",
    "    \n",
    "    if let in sesli :\n",
    "        return True\n",
    "    else:\n",
    "        return False\n",
    "\n",
    "# list(filter(sesli_harf, letters))\n",
    "filitrelenmis = filter(sesli_harf, letters)\n",
    "for sesli_harf in filitrelenmis:\n",
    "    print(sesli_harf)"
   ]
  },
  {
   "cell_type": "code",
   "execution_count": 25,
   "metadata": {},
   "outputs": [
    {
     "name": "stdout",
     "output_type": "stream",
     "text": [
      "0\n"
     ]
    }
   ],
   "source": [
    "condition = False\n",
    "# execute body1 if condition else execute body2\n",
    "a = 1 if condition else 0\n",
    "print(a)"
   ]
  },
  {
   "cell_type": "markdown",
   "metadata": {},
   "source": [
    "List Comprenension"
   ]
  },
  {
   "cell_type": "code",
   "execution_count": 28,
   "metadata": {},
   "outputs": [
    {
     "name": "stdout",
     "output_type": "stream",
     "text": [
      "[1, 9, 25]\n"
     ]
    }
   ],
   "source": [
    "my_list = [1, 2, 3, 4, 5, 6]\n",
    "odd_sqr = []\n",
    "for i in my_list:\n",
    "    if i % 2 != 0:\n",
    "        odd_sqr.append(i ** 2)\n",
    "print(odd_sqr)"
   ]
  },
  {
   "cell_type": "code",
   "execution_count": 29,
   "metadata": {},
   "outputs": [
    {
     "data": {
      "text/plain": [
       "[1, 4, 9, 16, 25, 36]"
      ]
     },
     "execution_count": 29,
     "metadata": {},
     "output_type": "execute_result"
    }
   ],
   "source": [
    "# [expression for item in iterable]\n",
    "# for item in iterable:\n",
    "    # expretion\n",
    "\n",
    "[(i ** 2) for i in my_list]"
   ]
  },
  {
   "cell_type": "code",
   "execution_count": 32,
   "metadata": {},
   "outputs": [
    {
     "data": {
      "text/plain": [
       "[1, 9, 25]"
      ]
     },
     "execution_count": 32,
     "metadata": {},
     "output_type": "execute_result"
    }
   ],
   "source": [
    "[(i ** 2) for i in my_list if i % 2 != 0]"
   ]
  },
  {
   "cell_type": "code",
   "execution_count": 34,
   "metadata": {},
   "outputs": [
    {
     "data": {
      "text/plain": [
       "[3, 5, 4, 7, 5, 4]"
      ]
     },
     "execution_count": 34,
     "metadata": {},
     "output_type": "execute_result"
    }
   ],
   "source": [
    "strings = [\"ali\", \"osman\", \"ayse\", \"mustafa\", \"merve\", \"omer\"]\n",
    "[len(i) for i in strings]"
   ]
  },
  {
   "cell_type": "code",
   "execution_count": 36,
   "metadata": {},
   "outputs": [
    {
     "name": "stdout",
     "output_type": "stream",
     "text": [
      "80\n",
      "64\n"
     ]
    }
   ],
   "source": [
    "import sys\n",
    "\n",
    "x = [1, 2, 3]\n",
    "y = (1, 2, 3)\n",
    "\n",
    "print(sys.getsizeof(x))\n",
    "print(sys.getsizeof(y)) # hafizada kapladigi yer."
   ]
  },
  {
   "cell_type": "code",
   "execution_count": 38,
   "metadata": {},
   "outputs": [
    {
     "data": {
      "text/plain": [
       "<generator object <genexpr> at 0x000002DC51CE9740>"
      ]
     },
     "execution_count": 38,
     "metadata": {},
     "output_type": "execute_result"
    }
   ],
   "source": [
    "(x**2 for i in my_list)"
   ]
  },
  {
   "cell_type": "code",
   "execution_count": 49,
   "metadata": {},
   "outputs": [
    {
     "data": {
      "text/plain": [
       "[1, 4, 9, 16, 25, 36]"
      ]
     },
     "execution_count": 49,
     "metadata": {},
     "output_type": "execute_result"
    }
   ],
   "source": [
    "a = (i **2 for i in my_list)\n",
    "[next(a) for i in (my_list)]"
   ]
  },
  {
   "cell_type": "code",
   "execution_count": 52,
   "metadata": {},
   "outputs": [
    {
     "data": {
      "text/plain": [
       "['c', 'l', 'a', 'r', 'u', 's', 'w', 'a', 'y']"
      ]
     },
     "execution_count": 52,
     "metadata": {},
     "output_type": "execute_result"
    }
   ],
   "source": [
    "[i for i in (\"clarusway\")]"
   ]
  },
  {
   "cell_type": "code",
   "execution_count": 51,
   "metadata": {},
   "outputs": [
    {
     "data": {
      "text/plain": [
       "['e', 'e', 'e', 'e']"
      ]
     },
     "execution_count": 51,
     "metadata": {},
     "output_type": "execute_result"
    }
   ],
   "source": [
    "[i for i in (\"beri gel berber\") if i == \"e\"]"
   ]
  },
  {
   "cell_type": "code",
   "execution_count": 53,
   "metadata": {},
   "outputs": [
    {
     "data": {
      "text/plain": [
       "['b', 'r', 'i', ' ', 'g', 'l', ' ', 'b', 'r', 'b', 'r']"
      ]
     },
     "execution_count": 53,
     "metadata": {},
     "output_type": "execute_result"
    }
   ],
   "source": [
    "[i for i in (\"beri gel berber\") if i != \"e\"]"
   ]
  },
  {
   "cell_type": "code",
   "execution_count": null,
   "metadata": {},
   "outputs": [],
   "source": []
  }
 ],
 "metadata": {
  "kernelspec": {
   "display_name": "Python 3.8.3 64-bit",
   "language": "python",
   "name": "python38364bita7f47d0900394784b71c03f059c34a3b"
  },
  "language_info": {
   "codemirror_mode": {
    "name": "ipython",
    "version": 3
   },
   "file_extension": ".py",
   "mimetype": "text/x-python",
   "name": "python",
   "nbconvert_exporter": "python",
   "pygments_lexer": "ipython3",
   "version": "3.8.5"
  }
 },
 "nbformat": 4,
 "nbformat_minor": 4
}
