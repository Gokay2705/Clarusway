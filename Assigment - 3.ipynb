{
 "cells": [
  {
   "cell_type": "code",
   "execution_count": 60,
   "metadata": {},
   "outputs": [
    {
     "name": "stdout",
     "output_type": "stream",
     "text": [
      "[1, 3, 7, 4, 3, 0, 3, 6, 3]\n",
      "[0, 1, 3, 3, 3, 3, 4, 6, 7]\n",
      "{0, 1, 3, 4, 6, 7}\n"
     ]
    }
   ],
   "source": [
    "numbers = [1, 3, 7, 4, 3, 0, 3, 6, 3]\n",
    "print(numbers)\n",
    "numbers.sort()\n",
    "print(numbers)\n",
    "aa = set(numbers)\n",
    "print(aa)"
   ]
  },
  {
   "cell_type": "code",
   "execution_count": 61,
   "metadata": {},
   "outputs": [
    {
     "name": "stdout",
     "output_type": "stream",
     "text": [
      "[0, 1, 1, 2, 2, 2, 3, 3, 4, 4, 5, 6, 7, 9]\n"
     ]
    },
    {
     "data": {
      "text/plain": [
       "3"
      ]
     },
     "execution_count": 61,
     "metadata": {},
     "output_type": "execute_result"
    }
   ],
   "source": [
    "a = [3,6,5,2,4,1,2,4,7,9,0,1,2,3]\n",
    "a.sort()\n",
    "print(a)\n",
    "a.count(2)\n"
   ]
  },
  {
   "cell_type": "code",
   "execution_count": 66,
   "metadata": {},
   "outputs": [
    {
     "name": "stdout",
     "output_type": "stream",
     "text": [
      "{0: 2, 1: 2, 3: 4, 4: 2, 6: 1, 7: 1}\n",
      "The most frequent number is 3 and it was 4 times repeated.\n"
     ]
    }
   ],
   "source": [
    "num = [1, 3, 7, 4, 3, 0, 3, 6, 3, 4, 1, 0]\n",
    "keys = []\n",
    "values = []\n",
    "sozluk = {}\n",
    "num.sort()\n",
    "# print(num)\n",
    "for i in num:\n",
    "    a = num.count(i)\n",
    "    # print(str(i)+\": \"+str(a))\n",
    "    # values.insert(i, a)\n",
    "    # keys.insert(i, i)\n",
    "    sozluk[i] = a\n",
    "# print(keys)\n",
    "# print(values)\n",
    "print(sozluk)\n",
    "max(sozluk, key=sozluk.get)\n",
    "anahtar, deger = list(sozluk.keys()), list(sozluk.values())\n",
    "# print(anahtar[deger.index(max(deger))])\n",
    "# print(deger[deger.index(max(deger))])\n",
    "print(f\"The most frequent number is {(anahtar[deger.index(max(deger))])} and it was {(deger[deger.index(max(deger))])} times repeated.\")"
   ]
  },
  {
   "cell_type": "code",
   "execution_count": 38,
   "metadata": {},
   "outputs": [
    {
     "name": "stdout",
     "output_type": "stream",
     "text": [
      "['SVM', 'Regression', 'Bayes']\n",
      "[0.78, 0.64, 0.7]\n"
     ]
    },
    {
     "data": {
      "text/plain": [
       "'Regression'"
      ]
     },
     "execution_count": 38,
     "metadata": {},
     "output_type": "execute_result"
    }
   ],
   "source": [
    "modelSonuclari = {\"SVM\":0.78,\"Regression\":0.64,\"Bayes\":0.70}\n",
    "# Normal yok\n",
    "anahtar, deger = list(modelSonuclari.keys()), list(modelSonuclari.values())\n",
    "print(anahtar) # ÇIKTI: ['SVM', 'Regression', 'Bayes']\n",
    "print(deger) # ÇIKTI: [0.78, 0.64, 0.7]\n",
    "\n",
    "# Maksimum değerden anahtarın bulunması\n",
    "anahtar[deger.index(max(deger))]\n",
    "# ÇIKTI: 'SVM'\n",
    "\n",
    "# Kısa yol\n",
    "max(modelSonuclari, key=modelSonuclari.get)\n",
    "# ÇIKTI: 'SVM'\n",
    "\n",
    "# minimum için\n",
    "min(modelSonuclari, key=modelSonuclari.get)\n",
    "# ÇIKTI: 'Regression'"
   ]
  },
  {
   "cell_type": "code",
   "execution_count": 52,
   "metadata": {},
   "outputs": [
    {
     "name": "stdout",
     "output_type": "stream",
     "text": [
      "[2, 2, 2, 4, 2, 2, 1, 1, 4, 4, 4, 2]\n",
      "[0, 1, 1, 3, 4, 4, 6, 7, 3, 3, 3, 0]\n",
      "{0: 2, 1: 2, 3: 4, 4: 2, 6: 1, 7: 1}\n",
      "{2: 4, 4: 3, 1: 7}\n"
     ]
    }
   ],
   "source": [
    "num = [1, 3, 7, 4, 3, 0, 3, 6, 3, 4, 1, 0]\n",
    "keys = []\n",
    "values = []\n",
    "sozluk = {}\n",
    "sozluk_1 = {}\n",
    "# num.sort()\n",
    "# print(num)\n",
    "for i in num:\n",
    "    a = num.count(i)\n",
    "    # print(str(i)+\": \"+str(a))\n",
    "    values.insert(i, i)\n",
    "    keys.insert(i, a)\n",
    "    sozluk[i] = a\n",
    "    sozluk_1[a] = i\n",
    "print(keys)\n",
    "print(values)\n",
    "print(sozluk)\n",
    "print(sozluk_1)"
   ]
  },
  {
   "cell_type": "code",
   "execution_count": 69,
   "metadata": {},
   "outputs": [
    {
     "name": "stdout",
     "output_type": "stream",
     "text": [
      "The most frequent number is 3 and it was 4 times repeated.\n"
     ]
    }
   ],
   "source": [
    "num = [1, 3, 7, 4, 3, 0, 3, 6, 3, 4, 1, 0]\n",
    "keys, values = [], []\n",
    "sozluk = {}\n",
    "for i in num:\n",
    "    a = num.count(i)\n",
    "    sozluk[i] = a\n",
    "max(sozluk, key=sozluk.get)\n",
    "anahtar, deger = list(sozluk.keys()), list(sozluk.values())\n",
    "print(f\"The most frequent number is {(anahtar[deger.index(max(deger))])} and it was {(deger[deger.index(max(deger))])} times repeated.\")"
   ]
  },
  {
   "cell_type": "code",
   "execution_count": 11,
   "metadata": {},
   "outputs": [
    {
     "name": "stdout",
     "output_type": "stream",
     "text": [
      "3 4\n",
      "The most frequent number is 3 and it was 4 times repeated.\n"
     ]
    }
   ],
   "source": [
    "numbers = [1, 3, 7, 4, 3, 0, 3, 6, 3]\n",
    "frequent = max(set(numbers), key = numbers.count)\n",
    "print(frequent, numbers.count(frequent))\n",
    "key = numbers.count\n",
    "\n",
    "print(f\"num = [1, 3, 7, 4, 3, 0, 3, 6, 3, 4, 1, 0]{(numbers.count(frequent))} times repeated.\")"
   ]
  },
  {
   "cell_type": "code",
   "execution_count": 5,
   "metadata": {},
   "outputs": [
    {
     "name": "stdout",
     "output_type": "stream",
     "text": [
      "The most frequent number is 3 and it's repeated 4 times repeated\n"
     ]
    }
   ],
   "source": [
    "num = [1, 3, 7, 4, 3, 0, 3, 6, 3, 4, 1, 0]\n",
    "item = max(num, key = num.count)\n",
    "repetition = num.count(item)\n",
    "print(\"The most frequent number is {} and it's repeated {} times \\\n",
    "repeated\".format(item, repetition))"
   ]
  },
  {
   "cell_type": "code",
   "execution_count": 11,
   "metadata": {},
   "outputs": [
    {
     "data": {
      "text/plain": [
       "['addis ababa', 'istanbul', 'tokyo', 'rome', 'baku', 'bern']"
      ]
     },
     "execution_count": 11,
     "metadata": {},
     "output_type": "execute_result"
    }
   ],
   "source": [
    "city = [\"addis ababa\", \"tokyo\", \"rome\", \"istanbul\", \"baku\", \"bern\"]\n",
    "sorted(city, key = len, reverse = True)"
   ]
  },
  {
   "cell_type": "code",
   "execution_count": 12,
   "metadata": {},
   "outputs": [
    {
     "data": {
      "text/plain": [
       "3"
      ]
     },
     "execution_count": 12,
     "metadata": {},
     "output_type": "execute_result"
    }
   ],
   "source": [
    "samanlik = [\"yumurta\", \"saman\", \"tirpan\", \"igne\", \"tezek\", \"inek\", \"su\", \"tavuk\"]\n",
    "samanlik.index(\"igne\")"
   ]
  },
  {
   "cell_type": "code",
   "execution_count": 13,
   "metadata": {},
   "outputs": [
    {
     "name": "stdout",
     "output_type": "stream",
     "text": [
      "five\n",
      "True\n",
      "6\n"
     ]
    }
   ],
   "source": [
    "v = (\"five\", True, 6)\n",
    "x, y, z = v\n",
    "print(x, y, z, sep = \"\\n\")"
   ]
  },
  {
   "cell_type": "code",
   "execution_count": 14,
   "metadata": {},
   "outputs": [],
   "source": [
    "(landi, mardi, vendredi, juedi, vendredi, samedi, dimange) = tuple(range(1,8))"
   ]
  },
  {
   "cell_type": "code",
   "execution_count": 15,
   "metadata": {},
   "outputs": [
    {
     "data": {
      "text/plain": [
       "1"
      ]
     },
     "execution_count": 15,
     "metadata": {},
     "output_type": "execute_result"
    }
   ],
   "source": [
    "landi"
   ]
  },
  {
   "cell_type": "code",
   "execution_count": 16,
   "metadata": {},
   "outputs": [
    {
     "data": {
      "text/plain": [
       "[1, 2, 3, 4, '11', '22', 33]"
      ]
     },
     "execution_count": 16,
     "metadata": {},
     "output_type": "execute_result"
    }
   ],
   "source": [
    "[1,2,3,4] + [\"11\", \"22\", 33]"
   ]
  },
  {
   "cell_type": "code",
   "execution_count": 18,
   "metadata": {},
   "outputs": [
    {
     "name": "stdout",
     "output_type": "stream",
     "text": [
      "10 6\n"
     ]
    }
   ],
   "source": [
    "a, _, b, c_ = (10, 5, 6, 88, 44)\n",
    "print(a,b)"
   ]
  },
  {
   "cell_type": "code",
   "execution_count": 19,
   "metadata": {},
   "outputs": [
    {
     "name": "stdout",
     "output_type": "stream",
     "text": [
      "10 5 [6, 88, 44]\n"
     ]
    }
   ],
   "source": [
    "a, b, *c = (10, 5, 6, 88, 44) # *c liste olusturur.\n",
    "print(a,b,c)"
   ]
  },
  {
   "cell_type": "code",
   "execution_count": 21,
   "metadata": {},
   "outputs": [
    {
     "name": "stdout",
     "output_type": "stream",
     "text": [
      "10 5\n"
     ]
    }
   ],
   "source": [
    "a, b, *_ = (10, 5, 6, 88, 44) # _ ile a ve b durur digerlerini saklar.\n",
    "print(a,b)"
   ]
  },
  {
   "cell_type": "code",
   "execution_count": 23,
   "metadata": {},
   "outputs": [
    {
     "name": "stdout",
     "output_type": "stream",
     "text": [
      "10 5 [6, 88, 2, 13, 64] 44\n"
     ]
    }
   ],
   "source": [
    "a, b, *c, d = (10, 5, 6, 88, 2,13, 64, 44)\n",
    "print(a,b,c,d)"
   ]
  },
  {
   "cell_type": "code",
   "execution_count": 24,
   "metadata": {},
   "outputs": [
    {
     "name": "stdout",
     "output_type": "stream",
     "text": [
      "10 5 [6, 88, 2, 13] 64 44\n"
     ]
    }
   ],
   "source": [
    "a, b, *c, d, e = (10, 5, 6, 88, 2,13, 64, 44)\n",
    "print(a,b,c,d,e)"
   ]
  },
  {
   "cell_type": "code",
   "execution_count": 25,
   "metadata": {},
   "outputs": [
    {
     "name": "stdout",
     "output_type": "stream",
     "text": [
      "10 5 64 44\n"
     ]
    }
   ],
   "source": [
    "a, b, *_, d, e = (10, 5, 6, 88, 2,13, 64, 44)\n",
    "print(a,b,d,e)"
   ]
  },
  {
   "cell_type": "code",
   "execution_count": 26,
   "metadata": {},
   "outputs": [
    {
     "name": "stdout",
     "output_type": "stream",
     "text": [
      "101000000\n"
     ]
    }
   ],
   "source": [
    "no1 = 100000000\n",
    "no2 = 1000000\n",
    "adding = no1 + no2\n",
    "print(adding)"
   ]
  },
  {
   "cell_type": "code",
   "execution_count": 34,
   "metadata": {},
   "outputs": [
    {
     "name": "stdout",
     "output_type": "stream",
     "text": [
      "101000000\n",
      "101,000,000\n",
      "101,000,000\n"
     ]
    }
   ],
   "source": [
    "no1 = 100_000_000\n",
    "no2 = 1_000_000\n",
    "adding = no1 + no2\n",
    "print(adding)\n",
    "print(f\"{adding:,}\") # _ ler , oldu.\n",
    "print(\"{:,}\".format(adding)) # _ ler , oldu."
   ]
  },
  {
   "cell_type": "code",
   "execution_count": null,
   "metadata": {},
   "outputs": [],
   "source": []
  }
 ],
 "metadata": {
  "kernelspec": {
   "display_name": "Python 3",
   "language": "python",
   "name": "python3"
  },
  "language_info": {
   "codemirror_mode": {
    "name": "ipython",
    "version": 3
   },
   "file_extension": ".py",
   "mimetype": "text/x-python",
   "name": "python",
   "nbconvert_exporter": "python",
   "pygments_lexer": "ipython3",
   "version": "3.7.6"
  }
 },
 "nbformat": 4,
 "nbformat_minor": 4
}
