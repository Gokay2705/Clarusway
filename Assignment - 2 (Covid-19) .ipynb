{
 "cells": [
  {
   "cell_type": "markdown",
   "metadata": {},
   "source": [
    "Assignment - 2 (Covid-19)"
   ]
  },
  {
   "cell_type": "markdown",
   "metadata": {},
   "source": [
    "Set a logical algorithm using boolean logic operators (and/or) and use if-statements with the given variables in order to print out us a message :\n",
    "\"You are in risky group\"(if True ) or \"You are not in risky group\" (if False)."
   ]
  },
  {
   "cell_type": "code",
   "execution_count": 1,
   "metadata": {
    "tags": []
   },
   "outputs": [
    {
     "output_type": "stream",
     "name": "stdout",
     "text": "You entered True\nYou entered False\nYou entered False\nYou are not in risky group\n"
    }
   ],
   "source": [
    "age = input(\"Are you a cigarette addict older than 75 years old? \").title().strip() == \"Yes\"\n",
    "print(\"You entered\", age)\n",
    "chronic = input(\"Do you have a severe chronic disease? \").title().strip() == \"Yes\"\n",
    "print(\"You entered\", chronic)\n",
    "immune = input(\"Is your immune system too weak? \").title().strip() == \"Yes\"\n",
    "print(\"You entered\", immune)\n",
    "risk = age and chronic and immune\n",
    "if risk:\n",
    "    print(\"You are in risky group\")\n",
    "else:\n",
    "    print(\"You are not in risky group\")"
   ]
  },
  {
   "cell_type": "code",
   "execution_count": null,
   "metadata": {},
   "outputs": [],
   "source": []
  }
 ],
 "metadata": {
  "kernelspec": {
   "display_name": "Python 3",
   "language": "python",
   "name": "python3"
  },
  "language_info": {
   "codemirror_mode": {
    "name": "ipython",
    "version": 3
   },
   "file_extension": ".py",
   "mimetype": "text/x-python",
   "name": "python",
   "nbconvert_exporter": "python",
   "pygments_lexer": "ipython3",
   "version": "3.8.2-final"
  }
 },
 "nbformat": 4,
 "nbformat_minor": 4
}