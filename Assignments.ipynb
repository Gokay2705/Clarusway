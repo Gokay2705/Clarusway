{
 "cells": [
  {
   "cell_type": "code",
   "execution_count": 1,
   "metadata": {
    "tags": []
   },
   "outputs": [
    {
     "output_type": "stream",
     "name": "stdout",
     "text": "Hello, Mustafa The password is : W@12\n"
    }
   ],
   "source": [
    "name = input('insert your name : ').strip().title() == 'Mustafa'\n",
    "\n",
    "# print(name)\n",
    "\n",
    "if name:\n",
    "\n",
    "    print(\"Hello, Mustafa The password is : W@12\")\n",
    "\n",
    "else:\n",
    "\n",
    "    print('Hello, Amina! See you later.')"
   ]
  },
  {
   "cell_type": "code",
   "execution_count": null,
   "metadata": {},
   "outputs": [],
   "source": []
  }
 ],
 "metadata": {
  "kernelspec": {
   "display_name": "Python 3",
   "language": "python",
   "name": "python3"
  },
  "language_info": {
   "codemirror_mode": {
    "name": "ipython",
    "version": 3
   },
   "file_extension": ".py",
   "mimetype": "text/x-python",
   "name": "python",
   "nbconvert_exporter": "python",
   "pygments_lexer": "ipython3",
   "version": "3.8.2-final"
  }
 },
 "nbformat": 4,
 "nbformat_minor": 4
}