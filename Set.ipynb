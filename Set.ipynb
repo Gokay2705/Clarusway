{
 "cells": [
  {
   "cell_type": "markdown",
   "metadata": {},
   "source": [
    "SET"
   ]
  },
  {
   "cell_type": "code",
   "execution_count": 3,
   "metadata": {},
   "outputs": [
    {
     "name": "stdout",
     "output_type": "stream",
     "text": [
      "{'red', 'pink', 'blue'}\n",
      "{'red', 'yellow', 'orrange', 'pink', 'blue'}\n"
     ]
    }
   ],
   "source": [
    "set_1 = {'red', 'blue', 'pink', 'red'}\n",
    "colors = 'red', 'blue', 'pink', 'red', 'orrange', 'yellow'\n",
    "set_2 = set(colors)\n",
    "print(set_1)\n",
    "print(set_2)"
   ]
  },
  {
   "cell_type": "code",
   "execution_count": 10,
   "metadata": {},
   "outputs": [
    {
     "name": "stdout",
     "output_type": "stream",
     "text": [
      "{'b', 'g', 't', 'y', 'é', 'à', 'o', 'h', 'm', 'k', 'd', 'l', 'w', 'x', 'v', 'i', 's', 'è', 'j', 'q', 'p', 'n', 'c', 'z', 'u', 'a', 'e', 'f', 'r'}\n"
     ]
    }
   ],
   "source": [
    "letter = 'q w e r t z u i o p è a s d f g h j k l é à y x c v b n m'.split()\n",
    "print(set(letter))"
   ]
  },
  {
   "cell_type": "code",
   "execution_count": 16,
   "metadata": {},
   "outputs": [
    {
     "name": "stdout",
     "output_type": "stream",
     "text": [
      "{'d', 'l', 'h', 'i', 'p'}\n",
      "{'d', 'l', 'h', 'i', 'p'}\n"
     ]
    }
   ],
   "source": [
    "a = set ('philadelphiia')\n",
    "b = set ('dolphin')\n",
    "print(a.intersection(b)) # kesisim kumesini verir.\n",
    "print(a & b) # kesisim kumesini verir. (and yerinede kullaniliyor)"
   ]
  },
  {
   "cell_type": "code",
   "execution_count": 15,
   "metadata": {},
   "outputs": [
    {
     "name": "stdout",
     "output_type": "stream",
     "text": [
      "{'e', 'a'}\n",
      "{'e', 'a'}\n"
     ]
    }
   ],
   "source": [
    "print(a.difference(b)) # a'nin b'den farki.\n",
    "print(a-b) # a'nin b'den farki."
   ]
  },
  {
   "cell_type": "code",
   "execution_count": 17,
   "metadata": {},
   "outputs": [
    {
     "name": "stdout",
     "output_type": "stream",
     "text": [
      "{'d', 'n', 'a', 'e', 'o', 'l', 'h', 'i', 'p'}\n",
      "{'d', 'n', 'a', 'e', 'o', 'l', 'h', 'i', 'p'}\n"
     ]
    }
   ],
   "source": [
    "print(a.union(b)) # a birlesim b.\n",
    "print(a | b) # a birlesim b. (or yerinede kullaniliyor)"
   ]
  },
  {
   "cell_type": "code",
   "execution_count": 19,
   "metadata": {},
   "outputs": [
    {
     "name": "stdout",
     "output_type": "stream",
     "text": [
      "{'/', '0', '7', '4', '2'}\n",
      "{'04/07/2020'}\n"
     ]
    }
   ],
   "source": [
    "date_1 = '04/07/2020'\n",
    "print(set(date)) # set() her elemani tek tek alir ve kume olusturur.(iterable)\n",
    "date_2 = {'04/07/2020'}\n",
    "print(date_2) # {} ile olusturulunca sadece '' icini tek eleman gibi dusuur ve tek elemanli kume olusturur."
   ]
  },
  {
   "cell_type": "code",
   "execution_count": 21,
   "metadata": {},
   "outputs": [
    {
     "name": "stdout",
     "output_type": "stream",
     "text": [
      "{1, 2, 3, 4, 5}\n"
     ]
    }
   ],
   "source": [
    "given_list = [1, 2, 3, 3, 3, 3, 4, 4, 5, 5]\n",
    "print(set(given_list))"
   ]
  },
  {
   "cell_type": "code",
   "execution_count": 26,
   "metadata": {},
   "outputs": [
    {
     "name": "stdout",
     "output_type": "stream",
     "text": [
      "{'a', 's'}\n",
      "{'g', 't', 'w', 'a', 'e', 'o', 'l', 'h', 'i', 'n', 's'}\n",
      "{'g', 't', 'w', 'o', 'h', 'i', 'n'}\n"
     ]
    }
   ],
   "source": [
    "usa = 'washington'\n",
    "new_zealland = 'wellhington'\n",
    "a = set(usa)\n",
    "b = set(new_zealland)\n",
    "print(a.difference(b)) \n",
    "print(a.union(b))\n",
    "print(a.intersection(b))"
   ]
  },
  {
   "cell_type": "code",
   "execution_count": null,
   "metadata": {},
   "outputs": [],
   "source": []
  }
 ],
 "metadata": {
  "kernelspec": {
   "display_name": "Python 3",
   "language": "python",
   "name": "python3"
  },
  "language_info": {
   "codemirror_mode": {
    "name": "ipython",
    "version": 3
   },
   "file_extension": ".py",
   "mimetype": "text/x-python",
   "name": "python",
   "nbconvert_exporter": "python",
   "pygments_lexer": "ipython3",
   "version": "3.7.6"
  }
 },
 "nbformat": 4,
 "nbformat_minor": 4
}
