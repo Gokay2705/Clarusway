{
 "cells": [
  {
   "cell_type": "code",
   "execution_count": 38,
   "metadata": {},
   "outputs": [
    {
     "name": "stdout",
     "output_type": "stream",
     "text": [
      "Boyunuzu cm olarak giriniz? 180\n",
      "Kilonuzu kg olarak giriniz? 90\n",
      "Body mass index : 27.77777777777778\n",
      "Body mass index : 27.78\n"
     ]
    }
   ],
   "source": [
    "h = float(input('Boyunuzu cm olarak giriniz? '))\n",
    "w = float(input('Kilonuzu kg olarak giriniz? '))\n",
    "body_mass_index = (w / h**2)*10000\n",
    "print(\"Body mass index :\", body_mass_index)\n",
    "print(f\"Body mass index : {body_mass_index:.2f}\") # .dan sonra 2 basamak yazdiralim.\n"
   ]
  },
  {
   "cell_type": "code",
   "execution_count": 3,
   "metadata": {},
   "outputs": [
    {
     "name": "stdout",
     "output_type": "stream",
     "text": [
      "Elinizdeki parayi giriniz :300\n",
      "Urun fiyatini giriniz :11\n",
      "300.0$ degeri 11.0$ olan malzemeden 18  adet satin alabilirsiniz ve geriye 12.0$ geriye kalir.\n",
      " 300.0$ degeri 11.0$ olan malzemeden 18 adet satin alabilirsiniz ve geriye 12.0$ geriye kalir.\n"
     ]
    }
   ],
   "source": [
    "ana_para = float(input(\"Elinizdeki parayi giriniz :\"))\n",
    "urun_fiyati = float(input(\"Urun fiyatini giriniz :\"))\n",
    "max_adet = 200//11\n",
    "kalan = ana_para%max_adet\n",
    "print(f\"{ana_para}$ degeri {urun_fiyati}$ olan malzemeden {max_adet}  adet satin alabilirsiniz ve geriye {kalan}$ geriye kalir.\")\n",
    "\n",
    "cikti = f\" {ana_para}$ degeri {urun_fiyati}$ olan malzemeden\" \\\n",
    "        f\" {max_adet} adet satin alabilirsiniz\" \\\n",
    "        f\" ve geriye {kalan}$ geriye kalir.\"\n",
    "print(cikti)"
   ]
  },
  {
   "cell_type": "code",
   "execution_count": 64,
   "metadata": {},
   "outputs": [
    {
     "name": "stdout",
     "output_type": "stream",
     "text": [
      "1. sayiyi giriniz :1\n",
      "2. sayiyi giriniz :5\n",
      "Yeni birinci sayi 5\n",
      "Yeni ikinci sayi 1\n"
     ]
    }
   ],
   "source": [
    "num_1 = str(input(\"1. sayiyi giriniz :\"))\n",
    "num_2 = str(input(\"2. sayiyi giriniz :\"))\n",
    "print(\"Yeni birinci sayi\", num_1.replace(num_1, num_2))\n",
    "print(\"Yeni ikinci sayi\", num_2.replace(num_2, num_1))\n",
    "\n",
    "num_1, num_2 = num_2, num_1"
   ]
  },
  {
   "cell_type": "code",
   "execution_count": 72,
   "metadata": {},
   "outputs": [
    {
     "name": "stdout",
     "output_type": "stream",
     "text": [
      "Bir kelime giriniz       : qwe\n",
      "Bir separator giriniz   : @\n",
      "Tekrar sayisini giriniz : 3\n",
      "qwe@qwe@qwe\n",
      "qwe@qwe@qwe\n"
     ]
    }
   ],
   "source": [
    "word = input(\"Bir kelime giriniz      : \")\n",
    "separator = input(\"Bir separator giriniz   : \")\n",
    "repetition = int(input(\"Tekrar sayisini giriniz : \"))\n",
    "cikti = (word+separator)*repetition\n",
    "print(cikti[:-1]) # sondaki karakteri gormek istemiyoruz\n",
    "print(cikti[:len(cikti)-1]) # sondaki karakteri gormek istemiyoruz"
   ]
  },
  {
   "cell_type": "code",
   "execution_count": 78,
   "metadata": {},
   "outputs": [
    {
     "name": "stdout",
     "output_type": "stream",
     "text": [
      "clar\n",
      "usway\n",
      "clarusway\n"
     ]
    }
   ],
   "source": [
    "word = 'clarusway'\n",
    "n = 4\n",
    "front = word[:n]\n",
    "back = word[n:]\n",
    "print(front)\n",
    "print(back)\n",
    "print(front + back)"
   ]
  },
  {
   "cell_type": "code",
   "execution_count": 80,
   "metadata": {},
   "outputs": [
    {
     "name": "stdout",
     "output_type": "stream",
     "text": [
      "Bir kelime girinizqwertz\n",
      "Son n karakterin n tekrari3\n",
      "rtzrtzrtz\n"
     ]
    }
   ],
   "source": [
    "word= input('Bir kelime giriniz')\n",
    "n = int(input('Son n karakterin n tekrari'))\n",
    "print(word[-n:]*n)"
   ]
  },
  {
   "cell_type": "code",
   "execution_count": 84,
   "metadata": {},
   "outputs": [
    {
     "name": "stdout",
     "output_type": "stream",
     "text": [
      "Bir tam sayi giriniz : 11\n",
      "Sayi 3 bolunur False\n",
      "Sayi 5 bolunur False\n",
      "11\n"
     ]
    }
   ],
   "source": [
    "num = int(input('Bir tam sayi giriniz : '))\n",
    "word = 'Clarusway'\n",
    "\n",
    "print('Sayi 3 bolunur',num %3 == 0)\n",
    "print('Sayi 5 bolunur', num %5 == 0)\n",
    "\n",
    "print (\"Clarus\" * (num %3 == 0) + \"way\" * (num %5 == 0) or num)"
   ]
  },
  {
   "cell_type": "code",
   "execution_count": 89,
   "metadata": {},
   "outputs": [
    {
     "name": "stdout",
     "output_type": "stream",
     "text": [
      "clarus\n",
      "cba\n",
      "zyxsural\n"
     ]
    }
   ],
   "source": [
    "letters = \"abclarusxyz\"\n",
    "print(letters[2:8]) # clarus kelimesini elde edin\n",
    "print(letters[2::-1]) # cba elde din\n",
    "print(letters[:-9:-1]) # son 8 karakteri ters sirayla yazdirin"
   ]
  },
  {
   "cell_type": "code",
   "execution_count": null,
   "metadata": {},
   "outputs": [],
   "source": []
  }
 ],
 "metadata": {
  "kernelspec": {
   "display_name": "Python 3",
   "language": "python",
   "name": "python3"
  },
  "language_info": {
   "codemirror_mode": {
    "name": "ipython",
    "version": 3
   },
   "file_extension": ".py",
   "mimetype": "text/x-python",
   "name": "python",
   "nbconvert_exporter": "python",
   "pygments_lexer": "ipython3",
   "version": "3.7.6"
  }
 },
 "nbformat": 4,
 "nbformat_minor": 4
}
