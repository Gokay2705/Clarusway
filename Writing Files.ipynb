{
 "cells": [
  {
   "cell_type": "code",
   "execution_count": 1,
   "metadata": {},
   "outputs": [
    {
     "name": "stdout",
     "output_type": "stream",
     "text": [
      "This is the first line of my text file\n"
     ]
    }
   ],
   "source": [
    "with open(\"dummy_file.txt\", 'w', encoding=\"utf-8\") as file:  \n",
    "# we create and open the file\n",
    "\n",
    "    file.write('This is the first line of my text file')  \n",
    "    # writes str data into file\n",
    "\n",
    "with open(\"dummy_file.txt\", 'r', encoding=\"utf-8\") as file:\n",
    "    print(file.read())  # reads the content of the 'dummy_file'"
   ]
  },
  {
   "cell_type": "code",
   "execution_count": 4,
   "metadata": {},
   "outputs": [
    {
     "name": "stdout",
     "output_type": "stream",
     "text": [
      "bu birinci satır\n",
      "bu ikinci satır\n"
     ]
    }
   ],
   "source": [
    "with open(\"dummy_file.txt\", 'w', encoding=\"utf-8\") as file:\n",
    "    file.write(\"bu birinci satır\\nbu ikinci satır\")\n",
    "with open(\"dummy_file.txt\", 'r', encoding=\"utf-8\") as file:\n",
    "    print(file.read())"
   ]
  },
  {
   "cell_type": "code",
   "execution_count": 2,
   "metadata": {},
   "outputs": [
    {
     "name": "stdout",
     "output_type": "stream",
     "text": [
      "This is the new line for my dummy_file\n"
     ]
    }
   ],
   "source": [
    "with open(\"dummy_file.txt\", 'w', encoding=\"utf-8\") as file:\n",
    "    file.write('This is the new line for my dummy_file')  \n",
    "    # we write new str data into it \n",
    "\n",
    "with open(\"dummy_file.txt\", 'r', encoding=\"utf-8\") as file:\n",
    "    print(file.read())  # reads the content of the 'dummy_file'"
   ]
  },
  {
   "cell_type": "code",
   "execution_count": 3,
   "metadata": {},
   "outputs": [
    {
     "name": "stdout",
     "output_type": "stream",
     "text": [
      "This is the new line for my dummy_file\n"
     ]
    }
   ],
   "source": [
    "sea = open(\"dummy_file.txt\", 'r')   \n",
    "\n",
    "print(sea.read())  # displays the entire text content\n",
    "\n",
    "sea.close()  # be sure to close the file"
   ]
  },
  {
   "cell_type": "code",
   "execution_count": 7,
   "metadata": {},
   "outputs": [
    {
     "name": "stdout",
     "output_type": "stream",
     "text": [
      "My first sentence\n",
      "My second sentence,\n",
      "My third sentence\n",
      "My fourth sentence\n",
      "My last sentence.\n",
      "\n"
     ]
    }
   ],
   "source": [
    "with open(\"dummy_file.txt\", 'w', encoding=\"utf-8\") as file:\n",
    "    file.write('My first sentence\\n')\n",
    "    file.write('My second sentence,\\n')\n",
    "    file.write('My third sentence\\n')\n",
    "    file.write('My fourth sentence\\n')\n",
    "    file.write('My last sentence.\\n')\n",
    "\n",
    "with open(\"dummy_file.txt\", 'r', encoding=\"utf-8\") as file:\n",
    "    print(file.read())"
   ]
  },
  {
   "cell_type": "code",
   "execution_count": 10,
   "metadata": {},
   "outputs": [
    {
     "name": "stdout",
     "output_type": "stream",
     "text": [
      "Banana\n",
      "Orange\n",
      "Apple\n",
      "Strawberry\n",
      "Cherry\n",
      "\n",
      "['Banana\\n', 'Orange\\n', 'Apple\\n', 'Strawberry\\n', 'Cherry\\n']\n"
     ]
    }
   ],
   "source": [
    "fruits = ['Banana', 'Orange', 'Apple', 'Strawberry', 'Cherry']\n",
    "\n",
    "with open(\"fruits.txt\", 'w', encoding=\"utf-8\") as file:\n",
    "    for basket in fruits:\n",
    "        file.write(basket + '\\n')  # adds a newline character to each string\n",
    "        \n",
    "with open(\"fruits.txt\", 'r', encoding=\"utf-8\") as file:\n",
    "    print(file.read())\n",
    "\n",
    "with open(\"fruits.txt\", 'r', encoding=\"utf-8\") as file:\n",
    "    print(file.readlines())  # reads and displays entire lines in a list"
   ]
  },
  {
   "cell_type": "code",
   "execution_count": 11,
   "metadata": {},
   "outputs": [
    {
     "name": "stdout",
     "output_type": "stream",
     "text": [
      "Orca is a kind of Dolphin.\n",
      "\n",
      "Blue Whale is the largest animal known on earth.\n",
      "\n",
      "Sharks are the sister group to the Rays (batoids).\n",
      "\n",
      "The Tuna Fish can weigh up to 260 kg.\n",
      "\n",
      "Squid and Octopus are in the same class.\n",
      "\n"
     ]
    }
   ],
   "source": [
    "with open('fishes.txt', 'r', encoding = \"utf-8\") as sea:\n",
    "    fish_lines = sea.readlines()\n",
    "\n",
    "with open('fishes.txt', 'w', encoding = \"utf-8\") as sea:\n",
    "    for reef in fish_lines:\n",
    "        sea.write(reef + '\\n')\n",
    "        \n",
    "with open('fishes.txt', 'r', encoding = \"utf-8\") as sea:\n",
    "    print(sea.read())"
   ]
  },
  {
   "cell_type": "code",
   "execution_count": 13,
   "metadata": {},
   "outputs": [
    {
     "name": "stdout",
     "output_type": "stream",
     "text": [
      "Banana\n",
      "Orange\n",
      "Apple\n",
      "Strawberry\n",
      "Cherry\n",
      "\n",
      "Banana\n",
      "Orange\n",
      "Apple\n",
      "Strawberry\n",
      "Cherry\n",
      "Melon\n",
      "\n",
      "['Banana\\n', 'Orange\\n', 'Apple\\n', 'Strawberry\\n', 'Cherry\\n', 'Melon\\n']\n"
     ]
    }
   ],
   "source": [
    "fruits = ['Banana\\n', 'Orange\\n', 'Apple\\n', 'Strawberry\\n', 'Cherry\\n']\n",
    "\n",
    "with open(\"fruits.txt\", 'w', encoding=\"utf-8\") as file:\n",
    "    file.writelines(fruits)  # creates a file containing the elements of the list\n",
    "\n",
    "with open(\"fruits.txt\", 'r', encoding=\"utf-8\") as file:\n",
    "    print(file.read())  # reads the content of the file\n",
    "\n",
    "with open(\"fruits.txt\", 'a', encoding=\"utf-8\") as file:\n",
    "    file.write('Melon\\n')  # adds \"Melon\" to the end of the existing file\n",
    "\n",
    "with open(\"fruits.txt\", 'r', encoding=\"utf-8\") as file:\n",
    "    print(file.read())  # reads the last content of the file\n",
    "\n",
    "with open(\"fruits.txt\", 'r', encoding=\"utf-8\") as file:\n",
    "    print(file.readlines())"
   ]
  },
  {
   "cell_type": "code",
   "execution_count": 8,
   "metadata": {},
   "outputs": [
    {
     "name": "stdout",
     "output_type": "stream",
     "text": [
      "Banana\n",
      "Orange\n",
      "Apple\n",
      "Strawberry\n",
      "Cherry\n",
      "\n"
     ]
    }
   ],
   "source": [
    "fruits = ['Banana\\n', 'Orange\\n', 'Apple\\n', 'Strawberry\\n', 'Cherry\\n']\n",
    "\n",
    "with open(\"fruits.txt\", 'w', encoding=\"utf-8\") as file:\n",
    "    file.writelines(fruits)\n",
    "\n",
    "with open(\"fruits.txt\", 'r', encoding=\"utf-8\") as file:\n",
    "    print(file.read())"
   ]
  },
  {
   "cell_type": "code",
   "execution_count": 11,
   "metadata": {},
   "outputs": [
    {
     "name": "stdout",
     "output_type": "stream",
     "text": [
      "Jasmine\n",
      "Rose\n",
      "Lily\n",
      "Daisy\n",
      "Tulip\n",
      "\n"
     ]
    }
   ],
   "source": [
    "flowers = [\"Jasmine\\n\", \"Rose\\n\", \"Lily\\n\", \"Daisy\\n\", \"Tulip\\n\"]\n",
    "\n",
    "with open(\"flowers.txt\", 'w', encoding=\"utf-8\") as file:\n",
    "    file.writelines(flowers)\n",
    "\n",
    "with open(\"flowers.txt\", 'r', encoding=\"utf-8\") as file:\n",
    "    print(file.read())"
   ]
  },
  {
   "cell_type": "code",
   "execution_count": 17,
   "metadata": {},
   "outputs": [
    {
     "name": "stdout",
     "output_type": "stream",
     "text": [
      "Jasmine\n",
      "Rose\n",
      "Lily\n",
      "Daisy\n",
      "Tulip\n",
      "Lion\n",
      "Lion\n",
      "Lion\n",
      "Lion\n",
      "\n"
     ]
    }
   ],
   "source": [
    "with open(\"flowers.txt\", 'a', encoding=\"utf-8\") as file:\n",
    "    file.write('Lion\\n')  # adds \"Melon\" to the end of the existing file\n",
    "\n",
    "with open(\"flowers.txt\", 'r', encoding=\"utf-8\") as file:\n",
    "    print(file.read())"
   ]
  },
  {
   "cell_type": "code",
   "execution_count": 27,
   "metadata": {},
   "outputs": [
    {
     "name": "stdout",
     "output_type": "stream",
     "text": [
      "Korkma, sönmez bu şafaklarda yüzen al sancak;\n",
      "Sönmeden yurdumun üstünde tüten en son ocak.\n",
      "O benim milletimin yıldızıdır, parlayacak;\n",
      "O benimdir, o benim milletimindir ancak.\n",
      "\n",
      "\n",
      "Çatma, kurban olayım, çehreni ey nazlı hilal!\n",
      "Kahraman ırkıma bir gül! Ne bu şiddet, bu celal?\n",
      "Sana olmaz dökülen kanlarımız sonra helal...\n",
      "\n",
      "Hakkıdır, hakk'a tapan, milletimin istiklal!\n",
      "\n",
      "Ben ezelden beridir hür yaşadım, hür yaşarım.\n",
      "Hangi çılgın bana zincir vuracakmış? Şaşarım!\n",
      "\n",
      "Kükremiş sel gibiyim, bendimi çiğner, aşarım.\n",
      "Yırtarım dağları, enginlere sığmam, taşarım.\n",
      "\n",
      "Garbın afakını sarmışsa çelik zırhlı duvar,\n",
      "\n",
      "Benim iman dolu göğsüm gibi serhaddim var.\n",
      "Ulusun, korkma! Nasıl böyle bir imanı boğar,\n",
      "'Medeniyet!' dediğin tek dişi kalmış canavar?\n",
      "\n",
      "\n",
      "Arkadaş! Yurduma alçakları uğratma, sakın.\n",
      "Siper et gövdeni, dursun bu hayasızca akın.\n",
      "Doğacaktır sana va'dettigi günler hakk'ın...\n",
      "Kim bilir, belki yarın, belki yarından da yakın.\n",
      "\n",
      "\n",
      "Bastığın yerleri 'toprak!' diyerek geçme, tanı:\n",
      "Düşün altında binlerce kefensiz yatanı.\n",
      "Sen şehit oğlusun, incitme, yazıktır, atanı:\n",
      "\n",
      "Verme, dünyaları alsan da, bu cennet vatanı.\n",
      "\n",
      "Kim bu cennet vatanın uğruna olmaz ki feda?\n",
      "Şuheda fışkıracak toprağı sıksan, şuheda!\n",
      "\n",
      "Canı, cananı, bütün varımı alsın da hüda,\n",
      "Etmesin tek vatanımdan beni dünyada cüda.\n",
      "\n",
      "Ruhumun senden, ilahi, şudur ancak emeli:\n",
      "\n",
      "Değmesin mabedimin göğsüne namahrem eli.\n",
      "Bu ezanlar-ki şahadetleri dinin temeli,\n",
      "Ebedi yurdumun üstünde benim inlemeli.\n",
      "\n"
     ]
    }
   ],
   "source": [
    "with open('istiklal.txt', 'r', encoding = \"utf-8\") as file:\n",
    "    lines = file.readlines()\n",
    "    \n",
    "counter = 0\n",
    "with open('istiklal.txt', 'w', encoding = \"utf-8\") as file:\n",
    "    for i in lines:\n",
    "        counter += 1\n",
    "        if counter %4 == 0:\n",
    "            file.write(i + '\\n')\n",
    "        else:\n",
    "            file.write(i)\n",
    "            \n",
    "with open('istiklal.txt', 'r', encoding = \"utf-8\") as file:\n",
    "    print(file.read())"
   ]
  },
  {
   "cell_type": "code",
   "execution_count": 33,
   "metadata": {},
   "outputs": [
    {
     "name": "stdout",
     "output_type": "stream",
     "text": [
      "Korkma, sönmez bu şafaklarda yüzen al sancak;\n",
      "Sönmeden yurdumun üstünde tüten en son ocak.\n",
      "O benim milletimin yıldızıdır, parlayacak;\n",
      "O benimdir, o benim milletimindir ancak.\n",
      "\n",
      "Çatma, kurban olayım, çehreni ey nazlı hilal!\n",
      "Kahraman ırkıma bir gül! Ne bu şiddet, bu celal?\n",
      "Sana olmaz dökülen kanlarımız sonra helal...\n",
      "Hakkıdır, hakk'a tapan, milletimin istiklal!\n",
      "\n",
      "Ben ezelden beridir hür yaşadım, hür yaşarım.\n",
      "Hangi çılgın bana zincir vuracakmış? Şaşarım!\n",
      "Kükremiş sel gibiyim, bendimi çiğner, aşarım.\n",
      "Yırtarım dağları, enginlere sığmam, taşarım.\n",
      "\n",
      "Garbın afakını sarmışsa çelik zırhlı duvar,\n",
      "Benim iman dolu göğsüm gibi serhaddim var.\n",
      "Ulusun, korkma! Nasıl böyle bir imanı boğar,\n",
      "'Medeniyet!' dediğin tek dişi kalmış canavar?\n",
      "\n",
      "Arkadaş! Yurduma alçakları uğratma, sakın.\n",
      "Siper et gövdeni, dursun bu hayasızca akın.\n",
      "Doğacaktır sana va'dettigi günler hakk'ın...\n",
      "Kim bilir, belki yarın, belki yarından da yakın.\n",
      "\n",
      "Bastığın yerleri 'toprak!' diyerek geçme, tanı:\n",
      "Düşün altında binlerce kefensiz yatanı.\n",
      "Sen şehit oğlusun, incitme, yazıktır, atanı:\n",
      "Verme, dünyaları alsan da, bu cennet vatanı.\n",
      "\n",
      "Kim bu cennet vatanın uğruna olmaz ki feda?\n",
      "Şuheda fışkıracak toprağı sıksan, şuheda!\n",
      "Canı, cananı, bütün varımı alsın da hüda,\n",
      "Etmesin tek vatanımdan beni dünyada cüda.\n",
      "\n",
      "Ruhumun senden, ilahi, şudur ancak emeli:\n",
      "Değmesin mabedimin göğsüne namahrem eli.\n",
      "Bu ezanlar-ki şahadetleri dinin temeli,\n",
      "Ebedi yurdumun üstünde benim inlemeli.\n",
      "\n",
      "\n",
      "Korkma, sönmez bu şafaklarda yüzen al sancak;\n",
      "Sönmeden yurdumun üstünde tüten en son ocak.\n",
      "O benim milletimin yıldızıdır, parlayacak;\n",
      "O benimdir, o benim milletimindir ancak.\n",
      "Çatma, kurban olayım, çehreni ey nazlı hilal!\n",
      "Kahraman ırkıma bir gül! Ne bu şiddet, bu celal?\n",
      "Sana olmaz dökülen kanlarımız sonra helal...\n",
      "Hakkıdır, hakk'a tapan, milletimin istiklal!\n",
      "Ben ezelden beridir hür yaşadım, hür yaşarım.\n",
      "Hangi çılgın bana zincir vuracakmış? Şaşarım!\n",
      "Kükremiş sel gibiyim, bendimi çiğner, aşarım.\n",
      "Yırtarım dağları, enginlere sığmam, taşarım.\n",
      "Garbın afakını sarmışsa çelik zırhlı duvar,\n",
      "Benim iman dolu göğsüm gibi serhaddim var.\n",
      "Ulusun, korkma! Nasıl böyle bir imanı boğar,\n",
      "'Medeniyet!' dediğin tek dişi kalmış canavar?\n",
      "Arkadaş! Yurduma alçakları uğratma, sakın.\n",
      "Siper et gövdeni, dursun bu hayasızca akın.\n",
      "Doğacaktır sana va'dettigi günler hakk'ın...\n",
      "Kim bilir, belki yarın, belki yarından da yakın.\n",
      "Bastığın yerleri 'toprak!' diyerek geçme, tanı:\n",
      "Düşün altında binlerce kefensiz yatanı.\n",
      "Sen şehit oğlusun, incitme, yazıktır, atanı:\n",
      "Verme, dünyaları alsan da, bu cennet vatanı.\n",
      "Kim bu cennet vatanın uğruna olmaz ki feda?\n",
      "Şuheda fışkıracak toprağı sıksan, şuheda!\n",
      "Canı, cananı, bütün varımı alsın da hüda,\n",
      "Etmesin tek vatanımdan beni dünyada cüda.\n",
      "Ruhumun senden, ilahi, şudur ancak emeli:\n",
      "Değmesin mabedimin göğsüne namahrem eli.\n",
      "Bu ezanlar-ki şahadetleri dinin temeli,\n",
      "Ebedi yurdumun üstünde benim inlemeli.\n",
      "\n"
     ]
    }
   ],
   "source": [
    "with open(\"istiklal.txt\", 'r', encoding=\"utf-8\") as f:\n",
    "    istikk = f.readlines()\n",
    "    \n",
    "with open(\"istiklal.txt\", \"a\", encoding = \"utf-8\") as f:\n",
    "    f.write(\"\\n\")\n",
    "    for i in istikk:\n",
    "        if i == \"\\n\":\n",
    "            i.replace(\"\\n\", \"\")\n",
    "        else:\n",
    "            f.write(i)\n",
    "\n",
    "with open(\"istiklal.txt\", 'r', encoding=\"utf-8\") as f:\n",
    "    print(f.read())"
   ]
  },
  {
   "cell_type": "code",
   "execution_count": null,
   "metadata": {},
   "outputs": [],
   "source": []
  }
 ],
 "metadata": {
  "kernelspec": {
   "display_name": "Python 3.8.2 32-bit",
   "language": "python",
   "name": "python38232bit521447a40b024cebbd62f0348bdf8259"
  },
  "language_info": {
   "codemirror_mode": {
    "name": "ipython",
    "version": 3
   },
   "file_extension": ".py",
   "mimetype": "text/x-python",
   "name": "python",
   "nbconvert_exporter": "python",
   "pygments_lexer": "ipython3",
   "version": "3.8.5"
  }
 },
 "nbformat": 4,
 "nbformat_minor": 4
}
