{
 "cells": [
  {
   "cell_type": "markdown",
   "metadata": {},
   "source": [
    "Conditionals (if)"
   ]
  },
  {
   "cell_type": "code",
   "execution_count": 9,
   "metadata": {},
   "outputs": [
    {
     "name": "stdout",
     "output_type": "stream",
     "text": [
      "Bon Appetit\n"
     ]
    }
   ],
   "source": [
    "minced_meat = True\n",
    "bread = True\n",
    "lettuce = True\n",
    "pepper = False\n",
    "cheese = True\n",
    "store = True\n",
    "\n",
    "# hamburger = minced_meat and bread and store and (pepper or lettuce) & cheese\n",
    "hamburger = minced_meat & bread & store & (pepper | lettuce) & cheese\n",
    "if hamburger:\n",
    "    print ('Bon Appetit')\n",
    "else :\n",
    "    print('miss ingredient')"
   ]
  },
  {
   "cell_type": "code",
   "execution_count": 17,
   "metadata": {},
   "outputs": [
    {
     "name": "stdout",
     "output_type": "stream",
     "text": [
      "True\n",
      "False\n",
      "False\n",
      "True\n",
      "True\n",
      "False\n"
     ]
    }
   ],
   "source": [
    "print(1.0 == 1)\n",
    "print(1.0 == '1')\n",
    "print([] == \"\")\n",
    "print(2 != 3) # esit degil\n",
    "print(2 <= 3) # kucuk veya esit\n",
    "print(2 >= 3) # buyuk veya esit"
   ]
  },
  {
   "cell_type": "code",
   "execution_count": 18,
   "metadata": {},
   "outputs": [
    {
     "name": "stdout",
     "output_type": "stream",
     "text": [
      "is x equal to y?                 : False\n",
      "is x not equal to y?             : True\n",
      "is x less than y?                : True\n",
      "is x greater than y?             : False\n",
      "is x less than or equal to y?    : True\n",
      "is x greater than or equal to y? : False\n"
     ]
    }
   ],
   "source": [
    "x = 6\n",
    "y = 9\n",
    "print (\"is x equal to y?                 :\" , x == y)\n",
    "print (\"is x not equal to y?             :\" , x != y)\n",
    "print (\"is x less than y?                :\" , x < y)\n",
    "print (\"is x greater than y?             :\" , x > y)\n",
    "print (\"is x less than or equal to y?    :\" , x <= y)\n",
    "print (\"is x greater than or equal to y? :\" , x >= y)"
   ]
  },
  {
   "cell_type": "code",
   "execution_count": 1,
   "metadata": {},
   "outputs": [
    {
     "name": "stdout",
     "output_type": "stream",
     "text": [
      "Please insert Yes or No : yes\n",
      "You entered True\n"
     ]
    }
   ],
   "source": [
    "cevap = input(\"Please insert Yes or No : \").title().strip() == \"Yes\"\n",
    "# title buyuk kucuk harf hatasini engelliyor. strip bastaki ve sondaki bosluk hatalarini aliyor.\n",
    "print(\"You entered\", cevap)"
   ]
  },
  {
   "cell_type": "code",
   "execution_count": 2,
   "metadata": {},
   "outputs": [
    {
     "data": {
      "text/plain": [
       "True"
      ]
     },
     "execution_count": 2,
     "metadata": {},
     "output_type": "execute_result"
    }
   ],
   "source": [
    "bool(\"\") == bool ([]) # False == False "
   ]
  },
  {
   "cell_type": "code",
   "execution_count": 8,
   "metadata": {},
   "outputs": [
    {
     "name": "stdout",
     "output_type": "stream",
     "text": [
      "Please insert a number: 13\n",
      "13 is odd\n"
     ]
    }
   ],
   "source": [
    "num = int(input(\"Please insert a number: \"))\n",
    "if num % 2 == 0:\n",
    "    print(num, 'is even')\n",
    "else:\n",
    "    print(num, 'is odd')"
   ]
  },
  {
   "cell_type": "code",
   "execution_count": 10,
   "metadata": {},
   "outputs": [
    {
     "name": "stdout",
     "output_type": "stream",
     "text": [
      "Please insert a number: -1\n",
      "-1 is negative\n"
     ]
    }
   ],
   "source": [
    "num = int(input(\"Please insert a number: \"))\n",
    "if num >= 0:\n",
    "    print(num, 'is positive')\n",
    "else:\n",
    "    print(num, 'is negative')"
   ]
  },
  {
   "cell_type": "code",
   "execution_count": 11,
   "metadata": {},
   "outputs": [
    {
     "name": "stdout",
     "output_type": "stream",
     "text": [
      "Please insert a number: 12\n",
      "Please insert another number: 15\n",
      "The large number is 15\n"
     ]
    }
   ],
   "source": [
    "num_1 = int(input(\"Please insert a number: \"))\n",
    "num_2 = int(input(\"Please insert another number: \"))\n",
    "if num_1 > num_2:\n",
    "    print('The large number is', num_1)\n",
    "else:\n",
    "    print('The large number is', num_2)"
   ]
  },
  {
   "cell_type": "code",
   "execution_count": 13,
   "metadata": {},
   "outputs": [
    {
     "name": "stdout",
     "output_type": "stream",
     "text": [
      "Please insert a number: 13\n",
      "Please insert another number: 18\n",
      "Please insert another number: 89\n",
      "The large number is 89.0\n"
     ]
    }
   ],
   "source": [
    "num_1 = float(input(\"Please insert a number: \"))\n",
    "num_2 = float(input(\"Please insert another number: \"))\n",
    "num_3 = float(input(\"Please insert another number: \"))\n",
    "if num_1 > num_2 and num_2 > num_3:\n",
    "    print('The large number is', num_1)\n",
    "elif num_2 > num_3 and num_3 > num_1:\n",
    "    print('The large number is', num_2)\n",
    "else:\n",
    "    print('The large number is', num_3)"
   ]
  },
  {
   "cell_type": "code",
   "execution_count": 17,
   "metadata": {},
   "outputs": [
    {
     "name": "stdout",
     "output_type": "stream",
     "text": [
      "Please insert a number: -3\n",
      "-3 is negative\n"
     ]
    }
   ],
   "source": [
    "num = float(input(\"Please insert a number: \"))\n",
    "if num > 0:\n",
    "    print(num, 'is positive')\n",
    "elif num < 0:\n",
    "    print(num, 'is negative')\n",
    "else:\n",
    "    print(num, 'is zero')    "
   ]
  },
  {
   "cell_type": "code",
   "execution_count": 1,
   "metadata": {},
   "outputs": [
    {
     "name": "stdout",
     "output_type": "stream",
     "text": [
      "insert your name : mustafa\n",
      "Hello, Mustafa The password is : W@12\n"
     ]
    }
   ],
   "source": [
    "name = input('insert your name : ').strip().title() == 'Mustafa'\n",
    "# print(name)\n",
    "if name:\n",
    "    print(\"Hello, Mustafa The password is : W@12\")\n",
    "else:\n",
    "    print('Hello, Amina! See you later.')"
   ]
  },
  {
   "cell_type": "code",
   "execution_count": null,
   "metadata": {},
   "outputs": [],
   "source": []
  }
 ],
 "metadata": {
  "kernelspec": {
   "display_name": "Python 3",
   "language": "python",
   "name": "python3"
  },
  "language_info": {
   "codemirror_mode": {
    "name": "ipython",
    "version": 3
   },
   "file_extension": ".py",
   "mimetype": "text/x-python",
   "name": "python",
   "nbconvert_exporter": "python",
   "pygments_lexer": "ipython3",
   "version": "3.7.6"
  }
 },
 "nbformat": 4,
 "nbformat_minor": 4
}
